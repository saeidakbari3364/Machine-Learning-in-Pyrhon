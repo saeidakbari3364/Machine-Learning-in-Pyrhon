{
 "cells": [
  {
   "cell_type": "markdown",
   "id": "97f55b93",
   "metadata": {},
   "source": [
    "# Using metrics module in sklearn"
   ]
  },
  {
   "cell_type": "code",
   "execution_count": 44,
   "id": "1fb0f673",
   "metadata": {},
   "outputs": [],
   "source": [
    "from sklearn.metrics import accuracy_score"
   ]
  },
  {
   "cell_type": "markdown",
   "id": "dce98646",
   "metadata": {},
   "source": [
    "# Classifying Digits"
   ]
  },
  {
   "cell_type": "code",
   "execution_count": 45,
   "id": "f6d2048f",
   "metadata": {},
   "outputs": [],
   "source": [
    "from sklearn.datasets import load_digits\n",
    "digits=load_digits()"
   ]
  },
  {
   "cell_type": "code",
   "execution_count": 46,
   "id": "3553516b",
   "metadata": {},
   "outputs": [],
   "source": [
    "X,y=digits.data,digits.target"
   ]
  },
  {
   "cell_type": "code",
   "execution_count": 47,
   "id": "1bbd725e",
   "metadata": {},
   "outputs": [],
   "source": [
    "\n",
    "from sklearn.model_selection import train_test_split"
   ]
  },
  {
   "cell_type": "code",
   "execution_count": 48,
   "id": "b5607fb8",
   "metadata": {},
   "outputs": [],
   "source": [
    "X_train,X_test,y_train,y_test=train_test_split(X,y,test_size=0.3)"
   ]
  },
  {
   "cell_type": "code",
   "execution_count": 49,
   "id": "95b3b4a3",
   "metadata": {},
   "outputs": [],
   "source": [
    "from sklearn.neural_network import MLPClassifier"
   ]
  },
  {
   "cell_type": "code",
   "execution_count": 50,
   "id": "c6342dbc",
   "metadata": {},
   "outputs": [],
   "source": [
    "clf=MLPClassifier()"
   ]
  },
  {
   "cell_type": "code",
   "execution_count": 51,
   "id": "833cf43d",
   "metadata": {},
   "outputs": [
    {
     "data": {
      "text/plain": [
       "MLPClassifier()"
      ]
     },
     "execution_count": 51,
     "metadata": {},
     "output_type": "execute_result"
    }
   ],
   "source": [
    "clf.fit(X_train,y_train)"
   ]
  },
  {
   "cell_type": "code",
   "execution_count": 52,
   "id": "820026de",
   "metadata": {},
   "outputs": [],
   "source": [
    "y_pred=clf.predict(X_test)"
   ]
  },
  {
   "cell_type": "code",
   "execution_count": 53,
   "id": "51f20b9f",
   "metadata": {},
   "outputs": [],
   "source": [
    "from sklearn.metrics import accuracy_score"
   ]
  },
  {
   "cell_type": "code",
   "execution_count": 54,
   "id": "062610d6",
   "metadata": {},
   "outputs": [
    {
     "name": "stdout",
     "output_type": "stream",
     "text": [
      "accuracy=0.98\n"
     ]
    }
   ],
   "source": [
    "print(\"accuracy=%.2f\" %accuracy_score(y_test,y_pred))"
   ]
  },
  {
   "cell_type": "code",
   "execution_count": 55,
   "id": "a8219244",
   "metadata": {},
   "outputs": [],
   "source": [
    "from sklearn.metrics import confusion_matrix"
   ]
  },
  {
   "cell_type": "code",
   "execution_count": 56,
   "id": "af3d6606",
   "metadata": {},
   "outputs": [],
   "source": [
    "cm=confusion_matrix(y_test,y_pred,labels=digits.target_names)"
   ]
  },
  {
   "cell_type": "code",
   "execution_count": 57,
   "id": "1464fe0a",
   "metadata": {},
   "outputs": [
    {
     "name": "stdout",
     "output_type": "stream",
     "text": [
      "[[68  0  0  0  0  0  0  0  0  0]\n",
      " [ 0 54  1  0  0  0  0  0  2  0]\n",
      " [ 0  0 46  1  0  0  0  0  0  0]\n",
      " [ 0  0  0 44  0  2  0  0  0  0]\n",
      " [ 0  0  0  0 63  0  0  0  0  1]\n",
      " [ 0  0  0  0  0 43  0  0  0  0]\n",
      " [ 0  0  0  0  0  0 54  0  0  0]\n",
      " [ 0  0  0  0  0  0  0 57  1  0]\n",
      " [ 0  0  0  0  0  0  0  0 54  0]\n",
      " [ 0  0  0  0  0  0  0  0  1 48]]\n"
     ]
    }
   ],
   "source": [
    "print(cm)"
   ]
  },
  {
   "cell_type": "code",
   "execution_count": 119,
   "id": "46f26555",
   "metadata": {},
   "outputs": [
    {
     "data": {
      "image/png": "[encoded data removed]",
      "text/plain": [
       "<Figure size 576x576 with 2 Axes>"
      ]
     },
     "metadata": {
      "needs_background": "light"
     },
     "output_type": "display_data"
    }
   ],
   "source": [
    "%matplotlib inline\n",
    "import matplotlib.pyplot as plt\n",
    "\n",
    "plt.figure(figsize=(8,8))\n",
    "plt.imshow(cm,cmap=plt.cm.Blues, interpolation='nearest')\n",
    "plt.xticks(range(10))\n",
    "plt.yticks(range(10))\n",
    "plt.colorbar()\n",
    "plt.show()"
   ]
  },
  {
   "cell_type": "code",
   "execution_count": 120,
   "id": "024d99b5",
   "metadata": {},
   "outputs": [],
   "source": [
    "from sklearn.datasets import load_iris\n",
    "iris=load_iris()"
   ]
  },
  {
   "cell_type": "code",
   "execution_count": 121,
   "id": "699c9dbd",
   "metadata": {},
   "outputs": [],
   "source": [
    "X,y=iris.data,iris.target"
   ]
  },
  {
   "cell_type": "code",
   "execution_count": 122,
   "id": "ddb3794c",
   "metadata": {},
   "outputs": [],
   "source": [
    "from sklearn.neighbors import KNeighborsClassifier"
   ]
  },
  {
   "cell_type": "code",
   "execution_count": 123,
   "id": "80a5ff56",
   "metadata": {},
   "outputs": [],
   "source": [
    "clf=KNeighborsClassifier()"
   ]
  },
  {
   "cell_type": "code",
   "execution_count": 124,
   "id": "02b03090",
   "metadata": {},
   "outputs": [],
   "source": [
    "from sklearn.model_selection import train_test_split"
   ]
  },
  {
   "cell_type": "code",
   "execution_count": 125,
   "id": "198b136f",
   "metadata": {},
   "outputs": [],
   "source": [
    "X_train,X_test,y_train,y_test=train_test_split(X,y,test_size=0.5)"
   ]
  },
  {
   "cell_type": "code",
   "execution_count": 126,
   "id": "392ec893",
   "metadata": {},
   "outputs": [],
   "source": [
    "import numpy as np"
   ]
  },
  {
   "cell_type": "code",
   "execution_count": 127,
   "id": "b9910063",
   "metadata": {},
   "outputs": [
    {
     "name": "stdout",
     "output_type": "stream",
     "text": [
      "labels for trainging and testing data\n",
      "[0 0 0 0 1 0 1 2 1 1 1 2 0 2 0 0 2 2 0 0 2 0 2 2 2 2 1 1 2 1 0 0 0 1 2 0 0\n",
      " 0 2 0 2 1 0 0 2 2 1 2 0 2 2 2 0 2 0 0 0 2 2 0 1 1 2 1 1 0 2 1 1 1 1 0 1 1\n",
      " 0]\n",
      "[2 2 2 1 0 0 2 2 0 1 1 0 2 1 2 1 0 1 2 0 0 1 0 2 2 1 1 2 0 2 0 0 1 0 2 1 2\n",
      " 1 0 0 2 1 0 0 1 1 2 2 2 2 1 1 1 1 2 1 2 2 1 2 1 2 1 1 0 0 1 1 2 0 0 0 1 1\n",
      " 1]\n"
     ]
    }
   ],
   "source": [
    "print('labels for trainging and testing data')\n",
    "print(y_train)\n",
    "print(y_test)\n"
   ]
  },
  {
   "cell_type": "code",
   "execution_count": 128,
   "id": "2dd003a0",
   "metadata": {},
   "outputs": [
    {
     "name": "stdout",
     "output_type": "stream",
     "text": [
      "[0.33333333 0.33333333 0.33333333]\n"
     ]
    }
   ],
   "source": [
    "labels, counts=np.unique(y,return_counts=True)\n",
    "print(counts/float(len(y)))"
   ]
  },
  {
   "cell_type": "code",
   "execution_count": 129,
   "id": "b339a870",
   "metadata": {},
   "outputs": [
    {
     "name": "stdout",
     "output_type": "stream",
     "text": [
      "[0.38666667 0.28       0.33333333]\n"
     ]
    }
   ],
   "source": [
    "labels, counts=np.unique(y_train,return_counts=True)\n",
    "print(counts/float(len(y_train)))"
   ]
  },
  {
   "cell_type": "code",
   "execution_count": 130,
   "id": "11e72f61",
   "metadata": {},
   "outputs": [
    {
     "name": "stdout",
     "output_type": "stream",
     "text": [
      "[0.28       0.38666667 0.33333333]\n"
     ]
    }
   ],
   "source": [
    "labels, counts=np.unique(y_test,return_counts=True)\n",
    "print(counts/float(len(y_test)))"
   ]
  },
  {
   "cell_type": "markdown",
   "id": "b016b2ab",
   "metadata": {},
   "source": [
    "# Stratified Split"
   ]
  },
  {
   "cell_type": "code",
   "execution_count": 131,
   "id": "116bedb6",
   "metadata": {},
   "outputs": [],
   "source": [
    "#balance selection between classes"
   ]
  },
  {
   "cell_type": "code",
   "execution_count": 132,
   "id": "ca2a933c",
   "metadata": {},
   "outputs": [],
   "source": [
    "X_train,X_test,y_train,y_test=train_test_split(X,y,test_size=0.5, random_state=123,stratify=y)"
   ]
  },
  {
   "cell_type": "code",
   "execution_count": 133,
   "id": "9ae81589",
   "metadata": {},
   "outputs": [
    {
     "name": "stdout",
     "output_type": "stream",
     "text": [
      "[0.33333333 0.33333333 0.33333333]\n"
     ]
    }
   ],
   "source": [
    "labels, counts=np.unique(y,return_counts=True)\n",
    "print(counts/float(len(y)))"
   ]
  },
  {
   "cell_type": "code",
   "execution_count": 134,
   "id": "6f508450",
   "metadata": {},
   "outputs": [
    {
     "name": "stdout",
     "output_type": "stream",
     "text": [
      "[0.33333333 0.33333333 0.33333333]\n"
     ]
    }
   ],
   "source": [
    "labels, counts=np.unique(y_train,return_counts=True)\n",
    "print(counts/float(len(y_train)))"
   ]
  },
  {
   "cell_type": "code",
   "execution_count": 135,
   "id": "fa163959",
   "metadata": {},
   "outputs": [
    {
     "name": "stdout",
     "output_type": "stream",
     "text": [
      "[0.33333333 0.33333333 0.33333333]\n"
     ]
    }
   ],
   "source": [
    "labels, counts=np.unique(y_test,return_counts=True)\n",
    "print(counts/float(len(y_test)))"
   ]
  },
  {
   "cell_type": "markdown",
   "id": "f20b18d7",
   "metadata": {},
   "source": [
    "# Train annd Test"
   ]
  },
  {
   "cell_type": "code",
   "execution_count": 136,
   "id": "6ec5bfaf",
   "metadata": {},
   "outputs": [
    {
     "data": {
      "text/plain": [
       "KNeighborsClassifier()"
      ]
     },
     "execution_count": 136,
     "metadata": {},
     "output_type": "execute_result"
    }
   ],
   "source": [
    "clf.fit(X_train,y_train)"
   ]
  },
  {
   "cell_type": "code",
   "execution_count": 137,
   "id": "280c77d4",
   "metadata": {},
   "outputs": [],
   "source": [
    "y_pred=clf.predict(X_test)"
   ]
  },
  {
   "cell_type": "code",
   "execution_count": 138,
   "id": "1e47d608",
   "metadata": {},
   "outputs": [],
   "source": [
    "test_accuracy=accuracy_score(y_test,y_pred)"
   ]
  },
  {
   "cell_type": "code",
   "execution_count": 139,
   "id": "ff3aedca",
   "metadata": {},
   "outputs": [
    {
     "name": "stdout",
     "output_type": "stream",
     "text": [
      "Accuracy on test data=96.00%\n"
     ]
    }
   ],
   "source": [
    "print(\"Accuracy on test data=%.2f\" %(test_accuracy*100)+\"%\")"
   ]
  },
  {
   "cell_type": "markdown",
   "id": "3bf2d235",
   "metadata": {},
   "source": [
    "# Visualize"
   ]
  },
  {
   "cell_type": "code",
   "execution_count": 140,
   "id": "2db99bfe",
   "metadata": {},
   "outputs": [
    {
     "name": "stdout",
     "output_type": "stream",
     "text": [
      "[0 2 1 0 2 0 1 2 0 0 2 1 2 0 1 2 2 2 2 2 1 2 1 1 2 2 0 0 1 0 0 2 0 1 0 0 1\n",
      " 1 2 2 0 1 0 1 1 2 0 1 1 1 0 2 2 2 1 0 0 1 1 0 2 1 0 2 0 2 1 1 2 0 2 1 0 0\n",
      " 1]\n",
      "[0 2 1 0 2 0 1 2 0 0 2 1 2 0 1 2 2 2 2 2 1 2 1 1 2 2 0 0 1 0 0 2 0 1 0 0 1\n",
      " 1 2 2 0 1 0 1 2 2 0 1 1 2 0 2 2 2 1 0 0 1 1 0 1 1 0 2 0 2 1 1 2 0 2 1 0 0\n",
      " 1]\n",
      "[ True  True  True  True  True  True  True  True  True  True  True  True\n",
      "  True  True  True  True  True  True  True  True  True  True  True  True\n",
      "  True  True  True  True  True  True  True  True  True  True  True  True\n",
      "  True  True  True  True  True  True  True  True False  True  True  True\n",
      "  True False  True  True  True  True  True  True  True  True  True  True\n",
      " False  True  True  True  True  True  True  True  True  True  True  True\n",
      "  True  True  True]\n"
     ]
    }
   ],
   "source": [
    "print(y_test)\n",
    "print(y_pred)\n",
    "print(y_test==y_pred)"
   ]
  },
  {
   "cell_type": "code",
   "execution_count": 141,
   "id": "7ee074f7",
   "metadata": {},
   "outputs": [
    {
     "name": "stdout",
     "output_type": "stream",
     "text": [
      "Sample correctly Classified=\n",
      "[ 0  1  2  3  4  5  6  7  8  9 10 11 12 13 14 15 16 17 18 19 20 21 22 23\n",
      " 24 25 26 27 28 29 30 31 32 33 34 35 36 37 38 39 40 41 42 43 45 46 47 48\n",
      " 50 51 52 53 54 55 56 57 58 59 61 62 63 64 65 66 67 68 69 70 71 72 73 74]\n"
     ]
    }
   ],
   "source": [
    "print(\"Sample correctly Classified=\")\n",
    "correct_idx=np.where(y_pred==y_test)[0]\n",
    "print(correct_idx)"
   ]
  },
  {
   "cell_type": "code",
   "execution_count": 142,
   "id": "7a6246c6",
   "metadata": {},
   "outputs": [
    {
     "name": "stdout",
     "output_type": "stream",
     "text": [
      "\n",
      "Sample incorrectly Classified=\n",
      "[44 49 60]\n"
     ]
    }
   ],
   "source": [
    "print(\"\\nSample incorrectly Classified=\")\n",
    "incorrect_idx=np.where(y_pred != y_test)[0]\n",
    "print(incorrect_idx)"
   ]
  },
  {
   "cell_type": "code",
   "execution_count": 143,
   "id": "bca55b86",
   "metadata": {},
   "outputs": [],
   "source": [
    "#PLot Two Dimentions"
   ]
  },
  {
   "cell_type": "code",
   "execution_count": 144,
   "id": "88805421",
   "metadata": {},
   "outputs": [
    {
     "name": "stdout",
     "output_type": "stream",
     "text": [
      "[ 0  1  2  3  4  5  6  7  8  9 10 11 12 13 14 15 16 17 18 19 20 21 22 23\n",
      " 24 25 26 27 28 29 30 31 32 33 34 35 36 37 38 39 40 41 42 43 45 46 47 48\n",
      " 50 51 52 53 54 55 56 57 58 59 61 62 63 64 65 66 67 68 69 70 71 72 73 74]\n"
     ]
    }
   ],
   "source": [
    "print(np.where(y_pred==y_test)[0])"
   ]
  },
  {
   "cell_type": "code",
   "execution_count": 145,
   "id": "a8f4e85a",
   "metadata": {},
   "outputs": [
    {
     "data": {
      "image/png": "[encoded data removed]",
      "text/plain": [
       "<Figure size 720x432 with 1 Axes>"
      ]
     },
     "metadata": {
      "needs_background": "light"
     },
     "output_type": "display_data"
    }
   ],
   "source": [
    "plt.figure(figsize=(10,6))\n",
    "\n",
    "colors=['darkblue','darkgreen','gray']\n",
    "\n",
    "for n, color in enumerate(colors):\n",
    "    idx=np.where(y_test==n)[0]\n",
    "    plt.scatter(X_test[idx,1], X_test[idx,2],color=color, label=\"Class %s\" % str(n))\n",
    "    plt.scatter(X_test[incorrect_idx,1], X_test[incorrect_idx,2],color=\"darkred\")\n",
    "    \n",
    "    \n",
    "plt.xlabel('sepal width [cm]')\n",
    "plt.xlabel('sepal lenght [cm]')\n",
    "plt.legend(loc=3)\n",
    "plt.show()\n",
    "        "
   ]
  },
  {
   "cell_type": "markdown",
   "id": "6d221de1",
   "metadata": {},
   "source": [
    "# Supervised Learning -- Classification"
   ]
  },
  {
   "cell_type": "code",
   "execution_count": 146,
   "id": "8c510929",
   "metadata": {},
   "outputs": [],
   "source": [
    "from sklearn.datasets import make_blobs"
   ]
  },
  {
   "cell_type": "code",
   "execution_count": 147,
   "id": "85976f9b",
   "metadata": {},
   "outputs": [
    {
     "name": "stdout",
     "output_type": "stream",
     "text": [
      "[[ 4.21850347  2.23419161]\n",
      " [ 0.90779887  0.45984362]\n",
      " [-0.27652528  5.08127768]\n",
      " [ 0.08848433  2.32299086]\n",
      " [ 3.24329731  1.21460627]\n",
      " [ 1.44193252  2.76754364]\n",
      " [ 1.0220286   4.11660348]\n",
      " [ 3.97820955  2.37817845]\n",
      " [ 0.58894326  4.00148458]\n",
      " [ 1.25185786  0.20811388]\n",
      " [ 0.62835793  4.4601363 ]\n",
      " [ 1.68608568  0.65828448]\n",
      " [ 1.18454506  5.28042636]\n",
      " [ 0.06897171  4.35573272]\n",
      " [ 1.78726415  1.70012006]\n",
      " [ 4.4384123   1.84214315]\n",
      " [ 3.18190344 -0.18226785]\n",
      " [ 0.30380963  3.94423417]\n",
      " [ 0.73936011  0.43607906]\n",
      " [ 1.28535145  1.43691285]\n",
      " [ 1.1312175   4.68194985]\n",
      " [ 0.66471755  4.35995267]\n",
      " [ 1.31570453  2.44067826]\n",
      " [-0.18887976  5.20461381]\n",
      " [ 2.57854418  0.72611733]\n",
      " [ 0.87305123  4.71438583]\n",
      " [ 1.3105127   0.07122512]\n",
      " [ 0.9867701   6.08965782]\n",
      " [ 1.42013331  4.63746165]\n",
      " [ 2.3535057   2.22404956]\n",
      " [ 2.43169305 -0.20173713]\n",
      " [ 1.0427873   4.60625923]\n",
      " [ 0.95088418  0.94982874]\n",
      " [ 2.45127423 -0.19539785]\n",
      " [ 1.62011397  2.74692739]\n",
      " [ 2.15504965  4.12386249]\n",
      " [ 1.38093486  0.92949422]\n",
      " [ 1.98702592  2.61100638]\n",
      " [ 2.11567076  3.06896151]\n",
      " [ 0.56400993  1.33705536]\n",
      " [-0.07228289  2.88376939]\n",
      " [ 2.50904929  5.7731461 ]\n",
      " [-0.73000011  6.25456272]\n",
      " [ 1.37861172  3.61897724]\n",
      " [ 0.88214412  2.84128485]\n",
      " [ 2.22194102  1.5326951 ]\n",
      " [ 2.0159847  -0.27042984]\n",
      " [ 1.70127361 -0.47728763]\n",
      " [-0.65392827  4.76656958]\n",
      " [ 0.57309313  5.5262324 ]\n",
      " [ 1.956815    0.23418537]\n",
      " [ 0.76241061  1.16471453]\n",
      " [ 2.46452227  6.1996765 ]\n",
      " [ 1.33263648  5.0103605 ]\n",
      " [ 3.2460247   2.84942165]\n",
      " [ 1.10318217  4.70577669]\n",
      " [ 2.85942078  2.95602827]\n",
      " [ 1.59973502  0.91514282]\n",
      " [ 2.97612635  1.21639131]\n",
      " [ 2.68049897 -0.704394  ]\n",
      " [ 1.41942144  1.57409695]\n",
      " [ 1.9263585   4.15243012]\n",
      " [-0.09448254  5.35823905]\n",
      " [ 2.72756228  1.3051255 ]\n",
      " [ 1.12031365  5.75806083]\n",
      " [ 1.55723507  2.82719571]\n",
      " [ 0.10547293  3.72493766]\n",
      " [ 2.84382807  3.32650945]\n",
      " [ 3.15492712  1.55292739]\n",
      " [ 1.84070628  3.56162231]\n",
      " [ 1.28933778  3.44969159]\n",
      " [ 1.64164854  0.15020885]\n",
      " [ 3.92282648  1.80370832]\n",
      " [ 1.70536064  4.43277024]\n",
      " [ 0.1631238   2.57750473]\n",
      " [ 0.34194798  3.94104616]\n",
      " [ 1.02102468  1.57925818]\n",
      " [ 2.66934689  1.81987033]\n",
      " [ 0.4666179   3.86571303]\n",
      " [ 0.94808785  4.7321192 ]\n",
      " [ 1.19404184  2.80772861]\n",
      " [ 1.15369622  3.90200639]\n",
      " [-0.29421492  5.27318404]\n",
      " [ 1.7373078   4.42546234]\n",
      " [ 0.46546494  3.12315514]\n",
      " [ 0.08080352  4.69068983]\n",
      " [ 3.00251949  0.74265357]\n",
      " [ 2.20656076  5.50616718]\n",
      " [ 1.36069966  0.74802912]\n",
      " [ 2.63185834  0.6893649 ]\n",
      " [ 2.82705807  1.72116781]\n",
      " [ 2.91209813  0.24663807]\n",
      " [ 1.1424453   2.01467995]\n",
      " [ 1.05505217 -0.64710744]\n",
      " [ 2.47034915  4.09862906]\n",
      " [-1.57671974  4.95740592]\n",
      " [ 1.41164912 -1.32573949]\n",
      " [ 3.00468833  0.9852149 ]\n",
      " [-0.63762777  4.09104705]\n",
      " [ 0.829832    1.74202664]]\n"
     ]
    },
    {
     "ename": "NameError",
     "evalue": "name 'Print' is not defined",
     "output_type": "error",
     "traceback": [
      "\u001b[1;31m---------------------------------------------------------------------------\u001b[0m",
      "\u001b[1;31mNameError\u001b[0m                                 Traceback (most recent call last)",
      "Input \u001b[1;32mIn [147]\u001b[0m, in \u001b[0;36m<cell line: 3>\u001b[1;34m()\u001b[0m\n\u001b[0;32m      1\u001b[0m X,y\u001b[38;5;241m=\u001b[39mmake_blobs(centers\u001b[38;5;241m=\u001b[39m\u001b[38;5;241m2\u001b[39m,random_state\u001b[38;5;241m=\u001b[39m\u001b[38;5;241m0\u001b[39m,cluster_std\u001b[38;5;241m=\u001b[39m\u001b[38;5;241m1.0\u001b[39m)\n\u001b[0;32m      2\u001b[0m \u001b[38;5;28mprint\u001b[39m(X)\n\u001b[1;32m----> 3\u001b[0m \u001b[43mPrint\u001b[49m(y)\n",
      "\u001b[1;31mNameError\u001b[0m: name 'Print' is not defined"
     ]
    }
   ],
   "source": [
    "X,y=make_blobs(centers=2,random_state=0,cluster_std=1.0)\n",
    "print(X)\n",
    "Print(y)"
   ]
  },
  {
   "cell_type": "code",
   "execution_count": 148,
   "id": "e612141b",
   "metadata": {},
   "outputs": [
    {
     "name": "stdout",
     "output_type": "stream",
     "text": [
      "X ~ Samples x n_features: (100, 2)\n",
      "y ~ Samples: (100,)\n"
     ]
    }
   ],
   "source": [
    "print('X ~ Samples x n_features:' ,X.shape)\n",
    "print('y ~ Samples:',y.shape) "
   ]
  },
  {
   "cell_type": "code",
   "execution_count": 149,
   "id": "eb513ceb",
   "metadata": {},
   "outputs": [
    {
     "name": "stdout",
     "output_type": "stream",
     "text": [
      "\n",
      " x first 5 Samples:\n",
      " [[ 4.21850347  2.23419161]\n",
      " [ 0.90779887  0.45984362]\n",
      " [-0.27652528  5.08127768]\n",
      " [ 0.08848433  2.32299086]\n",
      " [ 3.24329731  1.21460627]]\n",
      "\n",
      " y first 5 Samples:\n",
      " [1 1 0 0 1]\n"
     ]
    }
   ],
   "source": [
    "print('\\n x first 5 Samples:\\n',X[:5,:])\n",
    "print('\\n y first 5 Samples:\\n',y[:5])\n"
   ]
  },
  {
   "cell_type": "code",
   "execution_count": 150,
   "id": "bb12bdc2",
   "metadata": {},
   "outputs": [
    {
     "data": {
      "image/png": "[encoded data removed]",
      "text/plain": [
       "<Figure size 720x432 with 1 Axes>"
      ]
     },
     "metadata": {
      "needs_background": "light"
     },
     "output_type": "display_data"
    }
   ],
   "source": [
    "plt.figure(figsize=(10,6))\n",
    "plt.scatter(X[y==0,0],X[y==0,1],color='blue',s=40,label='0')\n",
    "plt.scatter(X[y==1,0],X[y==1,1],color='red',s=40,label='1',marker='s')\n",
    "plt.xlabel('first feature')\n",
    "plt.ylabel('second feature')\n",
    "plt.legend(loc='upper right')\n",
    "plt.show()"
   ]
  },
  {
   "cell_type": "code",
   "execution_count": 151,
   "id": "6187da4a",
   "metadata": {},
   "outputs": [],
   "source": [
    "from sklearn.model_selection import train_test_split"
   ]
  },
  {
   "cell_type": "code",
   "execution_count": 152,
   "id": "926aab51",
   "metadata": {},
   "outputs": [],
   "source": [
    "X_train,X_test,y_train,y_test=train_test_split(X,y,test_size=0.25,random_state=1234,stratify=y)"
   ]
  },
  {
   "cell_type": "code",
   "execution_count": 153,
   "id": "b7e16f2a",
   "metadata": {},
   "outputs": [],
   "source": [
    "from sklearn.linear_model import LogisticRegression "
   ]
  },
  {
   "cell_type": "code",
   "execution_count": 154,
   "id": "724ca506",
   "metadata": {},
   "outputs": [],
   "source": [
    "clf=LogisticRegression()"
   ]
  },
  {
   "cell_type": "code",
   "execution_count": 155,
   "id": "956d7cd6",
   "metadata": {},
   "outputs": [
    {
     "name": "stdout",
     "output_type": "stream",
     "text": [
      "(75, 2)\n"
     ]
    }
   ],
   "source": [
    "print(X_train.shape)"
   ]
  },
  {
   "cell_type": "code",
   "execution_count": 156,
   "id": "5f24dedb",
   "metadata": {},
   "outputs": [
    {
     "name": "stdout",
     "output_type": "stream",
     "text": [
      "(75,)\n"
     ]
    }
   ],
   "source": [
    "print(y_train.shape)"
   ]
  },
  {
   "cell_type": "code",
   "execution_count": 157,
   "id": "4a641cff",
   "metadata": {},
   "outputs": [
    {
     "name": "stdout",
     "output_type": "stream",
     "text": [
      "(25, 2)\n"
     ]
    }
   ],
   "source": [
    "print(X_test.shape)"
   ]
  },
  {
   "cell_type": "code",
   "execution_count": 158,
   "id": "b6684d02",
   "metadata": {},
   "outputs": [
    {
     "data": {
      "text/plain": [
       "LogisticRegression()"
      ]
     },
     "execution_count": 158,
     "metadata": {},
     "output_type": "execute_result"
    }
   ],
   "source": [
    "clf.fit(X_train,y_train)"
   ]
  },
  {
   "cell_type": "code",
   "execution_count": 159,
   "id": "d80e8bc2",
   "metadata": {},
   "outputs": [],
   "source": [
    "y_pred=clf.predict(X_test)"
   ]
  },
  {
   "cell_type": "code",
   "execution_count": 160,
   "id": "89848d49",
   "metadata": {},
   "outputs": [
    {
     "name": "stdout",
     "output_type": "stream",
     "text": [
      "[1 0 1 0 1 1 1 1 1 1 1 0 0 0 0 1 0 0 1 0 0 0 1 1 0]\n",
      "[1 1 1 0 1 1 0 1 1 0 1 0 0 0 0 1 0 0 1 0 0 1 1 1 0]\n"
     ]
    }
   ],
   "source": [
    "print(y_pred)\n",
    "print(y_test)"
   ]
  },
  {
   "cell_type": "code",
   "execution_count": 161,
   "id": "4bdd4107",
   "metadata": {},
   "outputs": [
    {
     "name": "stdout",
     "output_type": "stream",
     "text": [
      "[ True False  True  True  True  True False  True  True False  True  True\n",
      "  True  True  True  True  True  True  True  True  True False  True  True\n",
      "  True]\n"
     ]
    }
   ],
   "source": [
    "print(y_pred==y_test)"
   ]
  },
  {
   "cell_type": "code",
   "execution_count": 162,
   "id": "dfda8584",
   "metadata": {},
   "outputs": [
    {
     "name": "stdout",
     "output_type": "stream",
     "text": [
      "0.84\n"
     ]
    }
   ],
   "source": [
    "#accuracy\n",
    "print(np.mean(y_pred==y_test))"
   ]
  },
  {
   "cell_type": "code",
   "execution_count": 163,
   "id": "751a5c62",
   "metadata": {},
   "outputs": [
    {
     "name": "stdout",
     "output_type": "stream",
     "text": [
      "0.84\n"
     ]
    }
   ],
   "source": [
    "print(clf.score(X_test,y_test))"
   ]
  },
  {
   "cell_type": "code",
   "execution_count": 164,
   "id": "5c6114f2",
   "metadata": {},
   "outputs": [
    {
     "name": "stdout",
     "output_type": "stream",
     "text": [
      "0.9733333333333334\n"
     ]
    }
   ],
   "source": [
    "print(clf.score(X_train,y_train))"
   ]
  },
  {
   "cell_type": "code",
   "execution_count": 165,
   "id": "a9859a6c",
   "metadata": {},
   "outputs": [
    {
     "name": "stdout",
     "output_type": "stream",
     "text": [
      "[[ 0.87015709 -2.23877721]]\n",
      "[4.64737766]\n"
     ]
    }
   ],
   "source": [
    "print(clf.coef_)\n",
    "print(clf.intercept_)"
   ]
  },
  {
   "cell_type": "code",
   "execution_count": 166,
   "id": "b443c006",
   "metadata": {},
   "outputs": [],
   "source": [
    "# KNN Classification"
   ]
  },
  {
   "cell_type": "code",
   "execution_count": 167,
   "id": "4bfcbe1c",
   "metadata": {},
   "outputs": [],
   "source": [
    "from sklearn.neighbors import KNeighborsClassifier"
   ]
  },
  {
   "cell_type": "code",
   "execution_count": 168,
   "id": "87495c5d",
   "metadata": {},
   "outputs": [],
   "source": [
    "knn=KNeighborsClassifier()"
   ]
  },
  {
   "cell_type": "code",
   "execution_count": 169,
   "id": "2776e083",
   "metadata": {},
   "outputs": [
    {
     "data": {
      "text/plain": [
       "KNeighborsClassifier()"
      ]
     },
     "execution_count": 169,
     "metadata": {},
     "output_type": "execute_result"
    }
   ],
   "source": [
    "knn.fit(X_train,y_train)"
   ]
  },
  {
   "cell_type": "code",
   "execution_count": 170,
   "id": "a6dc5294",
   "metadata": {},
   "outputs": [],
   "source": [
    "y_pred=knn.predict(X_test)"
   ]
  },
  {
   "cell_type": "code",
   "execution_count": 171,
   "id": "4d0d4264",
   "metadata": {},
   "outputs": [
    {
     "name": "stdout",
     "output_type": "stream",
     "text": [
      "0.92\n"
     ]
    }
   ],
   "source": [
    "print(knn.score(X_test,y_test))"
   ]
  },
  {
   "cell_type": "code",
   "execution_count": 172,
   "id": "a33c5422",
   "metadata": {},
   "outputs": [
    {
     "name": "stdout",
     "output_type": "stream",
     "text": [
      "[ True  True  True  True  True  True False  True  True False  True  True\n",
      "  True  True  True  True  True  True  True  True  True  True  True  True\n",
      "  True]\n"
     ]
    }
   ],
   "source": [
    "print(y_pred==y_test)"
   ]
  },
  {
   "cell_type": "markdown",
   "id": "1e3ee424",
   "metadata": {},
   "source": [
    "# Supervised Learning -- Regression"
   ]
  },
  {
   "cell_type": "code",
   "execution_count": 173,
   "id": "c1b2d2e4",
   "metadata": {},
   "outputs": [],
   "source": [
    "x=np.linspace(-3,3,100)"
   ]
  },
  {
   "cell_type": "code",
   "execution_count": 174,
   "id": "61defb55",
   "metadata": {},
   "outputs": [
    {
     "name": "stdout",
     "output_type": "stream",
     "text": [
      "[-3.         -2.93939394 -2.87878788 -2.81818182 -2.75757576 -2.6969697\n",
      " -2.63636364 -2.57575758 -2.51515152 -2.45454545]\n"
     ]
    }
   ],
   "source": [
    "print(x[:10])"
   ]
  },
  {
   "cell_type": "code",
   "execution_count": 175,
   "id": "cb311f91",
   "metadata": {},
   "outputs": [],
   "source": [
    "rng=np.random.RandomState(42)\n",
    "y=np.sin(4*x)+x+rng.uniform(size=len(x))"
   ]
  },
  {
   "cell_type": "code",
   "execution_count": 176,
   "id": "bedc0911",
   "metadata": {},
   "outputs": [
    {
     "data": {
      "image/png": "[encoded data removed]",
      "text/plain": [
       "<Figure size 432x288 with 1 Axes>"
      ]
     },
     "metadata": {
      "needs_background": "light"
     },
     "output_type": "display_data"
    }
   ],
   "source": [
    "plt.plot(x,y,'o');"
   ]
  },
  {
   "cell_type": "code",
   "execution_count": 177,
   "id": "de878ec3",
   "metadata": {},
   "outputs": [
    {
     "name": "stdout",
     "output_type": "stream",
     "text": [
      "(100,)\n"
     ]
    }
   ],
   "source": [
    "print(x.shape)"
   ]
  },
  {
   "cell_type": "code",
   "execution_count": 178,
   "id": "870a85d3",
   "metadata": {},
   "outputs": [],
   "source": [
    "x=x[:,np.newaxis]"
   ]
  },
  {
   "cell_type": "code",
   "execution_count": 179,
   "id": "2ab5a8f5",
   "metadata": {},
   "outputs": [
    {
     "name": "stdout",
     "output_type": "stream",
     "text": [
      "[[-3.        ]\n",
      " [-2.93939394]\n",
      " [-2.87878788]\n",
      " [-2.81818182]\n",
      " [-2.75757576]\n",
      " [-2.6969697 ]\n",
      " [-2.63636364]\n",
      " [-2.57575758]\n",
      " [-2.51515152]\n",
      " [-2.45454545]]\n"
     ]
    }
   ],
   "source": [
    "print(x[:10])"
   ]
  },
  {
   "cell_type": "code",
   "execution_count": 180,
   "id": "fbd3c8eb",
   "metadata": {},
   "outputs": [
    {
     "name": "stdout",
     "output_type": "stream",
     "text": [
      "(100, 1)\n"
     ]
    }
   ],
   "source": [
    "print(x.shape)"
   ]
  },
  {
   "cell_type": "code",
   "execution_count": 181,
   "id": "08159eee",
   "metadata": {},
   "outputs": [],
   "source": [
    "from sklearn.model_selection import train_test_split"
   ]
  },
  {
   "cell_type": "code",
   "execution_count": 182,
   "id": "b3b6e460",
   "metadata": {},
   "outputs": [],
   "source": [
    "X_train,X_test,y_train,y_test=train_test_split(x,y)"
   ]
  },
  {
   "cell_type": "code",
   "execution_count": 183,
   "id": "b57731af",
   "metadata": {},
   "outputs": [],
   "source": [
    "from sklearn.linear_model import LinearRegression"
   ]
  },
  {
   "cell_type": "code",
   "execution_count": 184,
   "id": "332de139",
   "metadata": {},
   "outputs": [
    {
     "data": {
      "text/plain": [
       "LinearRegression()"
      ]
     },
     "execution_count": 184,
     "metadata": {},
     "output_type": "execute_result"
    }
   ],
   "source": [
    "rg=LinearRegression()\n",
    "rg.fit(x,y)"
   ]
  },
  {
   "cell_type": "code",
   "execution_count": 185,
   "id": "93c0574b",
   "metadata": {},
   "outputs": [
    {
     "name": "stdout",
     "output_type": "stream",
     "text": [
      "Weight coefficients:  [0.92661741]\n",
      "y-axis intercept:  0.4701807433782093\n"
     ]
    }
   ],
   "source": [
    "print('Weight coefficients: ', rg.coef_)\n",
    "print('y-axis intercept: ', rg.intercept_)"
   ]
  },
  {
   "cell_type": "code",
   "execution_count": 186,
   "id": "540d16e8",
   "metadata": {},
   "outputs": [],
   "source": [
    "%matplotlib inline\n",
    "import matplotlib.pyplot as plt"
   ]
  },
  {
   "cell_type": "code",
   "execution_count": 187,
   "id": "c4a6f8cb",
   "metadata": {},
   "outputs": [
    {
     "data": {
      "image/png": "[encoded data removed]",
      "text/plain": [
       "<Figure size 432x288 with 1 Axes>"
      ]
     },
     "metadata": {
      "needs_background": "light"
     },
     "output_type": "display_data"
    }
   ],
   "source": [
    "min_pt = x.min() * rg.coef_[0] + rg.intercept_\n",
    "max_pt = x.max() * rg.coef_[0] + rg.intercept_\n",
    "\n",
    "plt.plot([x.min(), x.max()], [min_pt, max_pt])\n",
    "plt.plot(X_train, y_train, 'o');"
   ]
  },
  {
   "cell_type": "code",
   "execution_count": 188,
   "id": "bb64e41a",
   "metadata": {},
   "outputs": [],
   "source": [
    "y_pred_train = rg.predict(X_train)"
   ]
  },
  {
   "cell_type": "code",
   "execution_count": 189,
   "id": "8f538818",
   "metadata": {},
   "outputs": [
    {
     "data": {
      "image/png": "[encoded data removed]",
      "text/plain": [
       "<Figure size 432x288 with 1 Axes>"
      ]
     },
     "metadata": {
      "needs_background": "light"
     },
     "output_type": "display_data"
    }
   ],
   "source": [
    "plt.plot(X_train, y_train, 'o', label=\"data\")\n",
    "plt.plot(X_train, y_pred_train, 'o', label=\"prediction\")\n",
    "plt.plot([x.min(), x.max()], [min_pt, max_pt], label='fit')\n",
    "plt.legend(loc='best');"
   ]
  },
  {
   "cell_type": "code",
   "execution_count": 190,
   "id": "95471a3b",
   "metadata": {},
   "outputs": [
    {
     "data": {
      "text/plain": [
       "0.750127886610734"
      ]
     },
     "execution_count": 190,
     "metadata": {},
     "output_type": "execute_result"
    }
   ],
   "source": [
    "rg.score(X_test,y_test)"
   ]
  },
  {
   "cell_type": "code",
   "execution_count": 191,
   "id": "894f95b5",
   "metadata": {},
   "outputs": [],
   "source": [
    "y_pred_test = rg.predict(X_test)"
   ]
  },
  {
   "cell_type": "code",
   "execution_count": 192,
   "id": "4ce3dde2",
   "metadata": {},
   "outputs": [
    {
     "data": {
      "image/png": "[encoded data removed]",
      "text/plain": [
       "<Figure size 432x288 with 1 Axes>"
      ]
     },
     "metadata": {
      "needs_background": "light"
     },
     "output_type": "display_data"
    }
   ],
   "source": [
    "plt.plot(X_test, y_test, 'o', label=\"data\")\n",
    "plt.plot(X_test, y_pred_test, 'o', label=\"prediction\")\n",
    "plt.plot([x.min(), x.max()], [min_pt, max_pt], label='fit')\n",
    "plt.legend(loc='best');"
   ]
  },
  {
   "cell_type": "markdown",
   "id": "b74ad912",
   "metadata": {},
   "source": [
    "# Add new feture to train data"
   ]
  },
  {
   "cell_type": "code",
   "execution_count": 193,
   "id": "f2b787cc",
   "metadata": {},
   "outputs": [
    {
     "data": {
      "image/png": "[encoded data removed]",
      "text/plain": [
       "<Figure size 432x288 with 1 Axes>"
      ]
     },
     "metadata": {
      "needs_background": "light"
     },
     "output_type": "display_data"
    }
   ],
   "source": [
    "XX_train = np.concatenate((X_train, np.sin(4 * X_train)), axis=1)\n",
    "XX_test = np.concatenate((X_test, np.sin(4 * X_test)), axis=1)\n",
    "rg.fit(XX_train, y_train)\n",
    "y_pred_test_sine = rg.predict(XX_test)\n",
    "\n",
    "plt.plot(X_test, y_test, 'o', label=\"data\")\n",
    "plt.plot(X_test, y_pred_test_sine, 'o', label=\"prediction with sine\")\n",
    "plt.plot(X_test, y_pred_test, label='prediction without sine')\n",
    "plt.legend(loc='best');"
   ]
  },
  {
   "cell_type": "markdown",
   "id": "7d85d855",
   "metadata": {},
   "source": [
    "# KNeighborsRegression"
   ]
  },
  {
   "cell_type": "code",
   "execution_count": 194,
   "id": "338865d9",
   "metadata": {},
   "outputs": [],
   "source": [
    "from sklearn.neighbors import KNeighborsRegressor"
   ]
  },
  {
   "cell_type": "code",
   "execution_count": 197,
   "id": "e0308fc2",
   "metadata": {},
   "outputs": [
    {
     "data": {
      "text/plain": [
       "KNeighborsRegressor(n_neighbors=1)"
      ]
     },
     "execution_count": 197,
     "metadata": {},
     "output_type": "execute_result"
    }
   ],
   "source": [
    "knr=KNeighborsRegressor(n_neighbors=1)\n",
    "knr.fit(X_train,y_train)"
   ]
  },
  {
   "cell_type": "code",
   "execution_count": 199,
   "id": "5e0da929",
   "metadata": {},
   "outputs": [],
   "source": [
    "y_pred_train=knr.predict(X_train)"
   ]
  },
  {
   "cell_type": "code",
   "execution_count": 207,
   "id": "163b5f9c",
   "metadata": {},
   "outputs": [
    {
     "data": {
      "image/png": "[encoded data removed]",
      "text/plain": [
       "<Figure size 432x288 with 1 Axes>"
      ]
     },
     "metadata": {
      "needs_background": "light"
     },
     "output_type": "display_data"
    }
   ],
   "source": [
    "plt.plot(X_train,y_train,'o',label='data')\n",
    "plt.plot(X_train,y_pred_train,'s',label='prediction',markersize=4);\n",
    "plt.legend(loc='best');"
   ]
  },
  {
   "cell_type": "code",
   "execution_count": 210,
   "id": "f604807f",
   "metadata": {},
   "outputs": [
    {
     "data": {
      "image/png": "[encoded data removed]",
      "text/plain": [
       "<Figure size 432x288 with 1 Axes>"
      ]
     },
     "metadata": {
      "needs_background": "light"
     },
     "output_type": "display_data"
    }
   ],
   "source": [
    "y_pred_test=knr.predict(X_test)\n",
    "plt.plot(X_test,y_test,'o',label='data',markersize=6)\n",
    "plt.plot(X_test,y_pred_test,'s',label='prediction',markersize=4);\n",
    "plt.legend(loc='best');"
   ]
  },
  {
   "cell_type": "code",
   "execution_count": 211,
   "id": "ad09354c",
   "metadata": {},
   "outputs": [
    {
     "name": "stdout",
     "output_type": "stream",
     "text": [
      "0.9349476618570657\n"
     ]
    }
   ],
   "source": [
    "print(knr.score(X_test,y_test))"
   ]
  },
  {
   "cell_type": "code",
   "execution_count": 215,
   "id": "5ee47811",
   "metadata": {},
   "outputs": [
    {
     "name": "stdout",
     "output_type": "stream",
     "text": [
      "X.shape: (506, 13)\n",
      "Linear Regression Train/Test: 0.748/0.684\n",
      "KNeighborsRegressor Train/Test: 1.000/0.481\n"
     ]
    },
    {
     "name": "stderr",
     "output_type": "stream",
     "text": [
      "C:\\ProgramData\\Anaconda3\\lib\\site-packages\\sklearn\\utils\\deprecation.py:87: FutureWarning: Function load_boston is deprecated; `load_boston` is deprecated in 1.0 and will be removed in 1.2.\n",
      "\n",
      "    The Boston housing prices dataset has an ethical problem. You can refer to\n",
      "    the documentation of this function for further details.\n",
      "\n",
      "    The scikit-learn maintainers therefore strongly discourage the use of this\n",
      "    dataset unless the purpose of the code is to study and educate about\n",
      "    ethical issues in data science and machine learning.\n",
      "\n",
      "    In this special case, you can fetch the dataset from the original\n",
      "    source::\n",
      "\n",
      "        import pandas as pd\n",
      "        import numpy as np\n",
      "\n",
      "\n",
      "        data_url = \"http://lib.stat.cmu.edu/datasets/boston\"\n",
      "        raw_df = pd.read_csv(data_url, sep=\"\\s+\", skiprows=22, header=None)\n",
      "        data = np.hstack([raw_df.values[::2, :], raw_df.values[1::2, :2]])\n",
      "        target = raw_df.values[1::2, 2]\n",
      "\n",
      "    Alternative datasets include the California housing dataset (i.e.\n",
      "    :func:`~sklearn.datasets.fetch_california_housing`) and the Ames housing\n",
      "    dataset. You can load the datasets as follows::\n",
      "\n",
      "        from sklearn.datasets import fetch_california_housing\n",
      "        housing = fetch_california_housing()\n",
      "\n",
      "    for the California housing dataset and::\n",
      "\n",
      "        from sklearn.datasets import fetch_openml\n",
      "        housing = fetch_openml(name=\"house_prices\", as_frame=True)\n",
      "\n",
      "    for the Ames housing dataset.\n",
      "    \n",
      "  warnings.warn(msg, category=FutureWarning)\n"
     ]
    }
   ],
   "source": [
    "from sklearn.datasets import load_boston\n",
    "from sklearn.model_selection import train_test_split\n",
    "from sklearn.linear_model import LinearRegression\n",
    "import pandas as pd\n",
    "import numpy as np\n",
    "\n",
    "boston = load_boston()\n",
    "X = boston.data\n",
    "y = boston.target\n",
    "\n",
    "print('X.shape:', X.shape)\n",
    "X_train, X_test, y_train, y_test = train_test_split(X, y,\n",
    "                                                    test_size=0.25,\n",
    "                                                    random_state=42)\n",
    "\n",
    "linreg = LinearRegression()\n",
    "knnreg = KNeighborsRegressor(n_neighbors=1)\n",
    "\n",
    "linreg.fit(X_train, y_train)\n",
    "print('Linear Regression Train/Test: %.3f/%.3f' %\n",
    "      (linreg.score(X_train, y_train),\n",
    "       linreg.score(X_test, y_test)))\n",
    "\n",
    "knnreg.fit(X_train, y_train)\n",
    "print('KNeighborsRegressor Train/Test: %.3f/%.3f' %\n",
    "      (knnreg.score(X_train, y_train),\n",
    "       knnreg.score(X_test, y_test)));"
   ]
  },
  {
   "cell_type": "code",
   "execution_count": null,
   "id": "1f58bae1",
   "metadata": {},
   "outputs": [],
   "source": []
  }
 ],
 "metadata": {
  "kernelspec": {
   "display_name": "Python 3 (ipykernel)",
   "language": "python",
   "name": "python3"
  },
  "language_info": {
   "codemirror_mode": {
    "name": "ipython",
    "version": 3
   },
   "file_extension": ".py",
   "mimetype": "text/x-python",
   "name": "python",
   "nbconvert_exporter": "python",
   "pygments_lexer": "ipython3",
   "version": "3.9.12"
  }
 },
 "nbformat": 4,
 "nbformat_minor": 5
}
