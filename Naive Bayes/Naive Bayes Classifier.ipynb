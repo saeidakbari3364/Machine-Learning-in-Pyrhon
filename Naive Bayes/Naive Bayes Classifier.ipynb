{
 "cells": [
  {
   "cell_type": "markdown",
   "id": "340d3801",
   "metadata": {},
   "source": [
    "# Naive Bayes Classifier"
   ]
  },
  {
   "cell_type": "code",
   "execution_count": 4,
   "id": "801d0a1a",
   "metadata": {},
   "outputs": [],
   "source": [
    "import pandas as pd"
   ]
  },
  {
   "cell_type": "code",
   "execution_count": 5,
   "id": "b6b1d3a0",
   "metadata": {},
   "outputs": [
    {
     "data": {
      "text/html": [
       "<div>\n",
       "<style scoped>\n",
       "    .dataframe tbody tr th:only-of-type {\n",
       "        vertical-align: middle;\n",
       "    }\n",
       "\n",
       "    .dataframe tbody tr th {\n",
       "        vertical-align: top;\n",
       "    }\n",
       "\n",
       "    .dataframe thead th {\n",
       "        text-align: right;\n",
       "    }\n",
       "</style>\n",
       "<table border=\"1\" class=\"dataframe\">\n",
       "  <thead>\n",
       "    <tr style=\"text-align: right;\">\n",
       "      <th></th>\n",
       "      <th>PassengerId</th>\n",
       "      <th>Name</th>\n",
       "      <th>Pclass</th>\n",
       "      <th>Sex</th>\n",
       "      <th>Age</th>\n",
       "      <th>SibSp</th>\n",
       "      <th>Parch</th>\n",
       "      <th>Ticket</th>\n",
       "      <th>Fare</th>\n",
       "      <th>Cabin</th>\n",
       "      <th>Embarked</th>\n",
       "      <th>Survived</th>\n",
       "    </tr>\n",
       "  </thead>\n",
       "  <tbody>\n",
       "    <tr>\n",
       "      <th>0</th>\n",
       "      <td>1</td>\n",
       "      <td>Braund, Mr. Owen Harris</td>\n",
       "      <td>3</td>\n",
       "      <td>male</td>\n",
       "      <td>22.0</td>\n",
       "      <td>1</td>\n",
       "      <td>0</td>\n",
       "      <td>A/5 21171</td>\n",
       "      <td>7.2500</td>\n",
       "      <td>NaN</td>\n",
       "      <td>S</td>\n",
       "      <td>0</td>\n",
       "    </tr>\n",
       "    <tr>\n",
       "      <th>1</th>\n",
       "      <td>2</td>\n",
       "      <td>Cumings, Mrs. John Bradley (Florence Briggs Th...</td>\n",
       "      <td>1</td>\n",
       "      <td>female</td>\n",
       "      <td>38.0</td>\n",
       "      <td>1</td>\n",
       "      <td>0</td>\n",
       "      <td>PC 17599</td>\n",
       "      <td>71.2833</td>\n",
       "      <td>C85</td>\n",
       "      <td>C</td>\n",
       "      <td>1</td>\n",
       "    </tr>\n",
       "    <tr>\n",
       "      <th>2</th>\n",
       "      <td>3</td>\n",
       "      <td>Heikkinen, Miss. Laina</td>\n",
       "      <td>3</td>\n",
       "      <td>female</td>\n",
       "      <td>26.0</td>\n",
       "      <td>0</td>\n",
       "      <td>0</td>\n",
       "      <td>STON/O2. 3101282</td>\n",
       "      <td>7.9250</td>\n",
       "      <td>NaN</td>\n",
       "      <td>S</td>\n",
       "      <td>1</td>\n",
       "    </tr>\n",
       "    <tr>\n",
       "      <th>3</th>\n",
       "      <td>4</td>\n",
       "      <td>Futrelle, Mrs. Jacques Heath (Lily May Peel)</td>\n",
       "      <td>1</td>\n",
       "      <td>female</td>\n",
       "      <td>35.0</td>\n",
       "      <td>1</td>\n",
       "      <td>0</td>\n",
       "      <td>113803</td>\n",
       "      <td>53.1000</td>\n",
       "      <td>C123</td>\n",
       "      <td>S</td>\n",
       "      <td>1</td>\n",
       "    </tr>\n",
       "    <tr>\n",
       "      <th>4</th>\n",
       "      <td>5</td>\n",
       "      <td>Allen, Mr. William Henry</td>\n",
       "      <td>3</td>\n",
       "      <td>male</td>\n",
       "      <td>35.0</td>\n",
       "      <td>0</td>\n",
       "      <td>0</td>\n",
       "      <td>373450</td>\n",
       "      <td>8.0500</td>\n",
       "      <td>NaN</td>\n",
       "      <td>S</td>\n",
       "      <td>0</td>\n",
       "    </tr>\n",
       "  </tbody>\n",
       "</table>\n",
       "</div>"
      ],
      "text/plain": [
       "   PassengerId                                               Name  Pclass  \\\n",
       "0            1                            Braund, Mr. Owen Harris       3   \n",
       "1            2  Cumings, Mrs. John Bradley (Florence Briggs Th...       1   \n",
       "2            3                             Heikkinen, Miss. Laina       3   \n",
       "3            4       Futrelle, Mrs. Jacques Heath (Lily May Peel)       1   \n",
       "4            5                           Allen, Mr. William Henry       3   \n",
       "\n",
       "      Sex   Age  SibSp  Parch            Ticket     Fare Cabin Embarked  \\\n",
       "0    male  22.0      1      0         A/5 21171   7.2500   NaN        S   \n",
       "1  female  38.0      1      0          PC 17599  71.2833   C85        C   \n",
       "2  female  26.0      0      0  STON/O2. 3101282   7.9250   NaN        S   \n",
       "3  female  35.0      1      0            113803  53.1000  C123        S   \n",
       "4    male  35.0      0      0            373450   8.0500   NaN        S   \n",
       "\n",
       "   Survived  \n",
       "0         0  \n",
       "1         1  \n",
       "2         1  \n",
       "3         1  \n",
       "4         0  "
      ]
     },
     "execution_count": 5,
     "metadata": {},
     "output_type": "execute_result"
    }
   ],
   "source": [
    "df=pd.read_csv('titanic.csv')\n",
    "df.head()"
   ]
  },
  {
   "cell_type": "code",
   "execution_count": 7,
   "id": "ca3d4f75",
   "metadata": {},
   "outputs": [],
   "source": [
    "df.drop(['PassengerId','Name','SibSp','Parch','Ticket','Cabin','Embarked'],axis='columns',inplace=True)"
   ]
  },
  {
   "cell_type": "code",
   "execution_count": 8,
   "id": "d7df190d",
   "metadata": {},
   "outputs": [
    {
     "data": {
      "text/html": [
       "<div>\n",
       "<style scoped>\n",
       "    .dataframe tbody tr th:only-of-type {\n",
       "        vertical-align: middle;\n",
       "    }\n",
       "\n",
       "    .dataframe tbody tr th {\n",
       "        vertical-align: top;\n",
       "    }\n",
       "\n",
       "    .dataframe thead th {\n",
       "        text-align: right;\n",
       "    }\n",
       "</style>\n",
       "<table border=\"1\" class=\"dataframe\">\n",
       "  <thead>\n",
       "    <tr style=\"text-align: right;\">\n",
       "      <th></th>\n",
       "      <th>Pclass</th>\n",
       "      <th>Sex</th>\n",
       "      <th>Age</th>\n",
       "      <th>Fare</th>\n",
       "      <th>Survived</th>\n",
       "    </tr>\n",
       "  </thead>\n",
       "  <tbody>\n",
       "    <tr>\n",
       "      <th>0</th>\n",
       "      <td>3</td>\n",
       "      <td>male</td>\n",
       "      <td>22.0</td>\n",
       "      <td>7.2500</td>\n",
       "      <td>0</td>\n",
       "    </tr>\n",
       "    <tr>\n",
       "      <th>1</th>\n",
       "      <td>1</td>\n",
       "      <td>female</td>\n",
       "      <td>38.0</td>\n",
       "      <td>71.2833</td>\n",
       "      <td>1</td>\n",
       "    </tr>\n",
       "    <tr>\n",
       "      <th>2</th>\n",
       "      <td>3</td>\n",
       "      <td>female</td>\n",
       "      <td>26.0</td>\n",
       "      <td>7.9250</td>\n",
       "      <td>1</td>\n",
       "    </tr>\n",
       "    <tr>\n",
       "      <th>3</th>\n",
       "      <td>1</td>\n",
       "      <td>female</td>\n",
       "      <td>35.0</td>\n",
       "      <td>53.1000</td>\n",
       "      <td>1</td>\n",
       "    </tr>\n",
       "    <tr>\n",
       "      <th>4</th>\n",
       "      <td>3</td>\n",
       "      <td>male</td>\n",
       "      <td>35.0</td>\n",
       "      <td>8.0500</td>\n",
       "      <td>0</td>\n",
       "    </tr>\n",
       "  </tbody>\n",
       "</table>\n",
       "</div>"
      ],
      "text/plain": [
       "   Pclass     Sex   Age     Fare  Survived\n",
       "0       3    male  22.0   7.2500         0\n",
       "1       1  female  38.0  71.2833         1\n",
       "2       3  female  26.0   7.9250         1\n",
       "3       1  female  35.0  53.1000         1\n",
       "4       3    male  35.0   8.0500         0"
      ]
     },
     "execution_count": 8,
     "metadata": {},
     "output_type": "execute_result"
    }
   ],
   "source": [
    "df.head()"
   ]
  },
  {
   "cell_type": "code",
   "execution_count": 10,
   "id": "31916f11",
   "metadata": {},
   "outputs": [],
   "source": [
    "target=df.Survived\n",
    "inputs=df.drop('Survived',axis='columns')"
   ]
  },
  {
   "cell_type": "code",
   "execution_count": 12,
   "id": "37a9b576",
   "metadata": {},
   "outputs": [
    {
     "data": {
      "text/html": [
       "<div>\n",
       "<style scoped>\n",
       "    .dataframe tbody tr th:only-of-type {\n",
       "        vertical-align: middle;\n",
       "    }\n",
       "\n",
       "    .dataframe tbody tr th {\n",
       "        vertical-align: top;\n",
       "    }\n",
       "\n",
       "    .dataframe thead th {\n",
       "        text-align: right;\n",
       "    }\n",
       "</style>\n",
       "<table border=\"1\" class=\"dataframe\">\n",
       "  <thead>\n",
       "    <tr style=\"text-align: right;\">\n",
       "      <th></th>\n",
       "      <th>female</th>\n",
       "      <th>male</th>\n",
       "    </tr>\n",
       "  </thead>\n",
       "  <tbody>\n",
       "    <tr>\n",
       "      <th>0</th>\n",
       "      <td>0</td>\n",
       "      <td>1</td>\n",
       "    </tr>\n",
       "    <tr>\n",
       "      <th>1</th>\n",
       "      <td>1</td>\n",
       "      <td>0</td>\n",
       "    </tr>\n",
       "    <tr>\n",
       "      <th>2</th>\n",
       "      <td>1</td>\n",
       "      <td>0</td>\n",
       "    </tr>\n",
       "    <tr>\n",
       "      <th>3</th>\n",
       "      <td>1</td>\n",
       "      <td>0</td>\n",
       "    </tr>\n",
       "    <tr>\n",
       "      <th>4</th>\n",
       "      <td>0</td>\n",
       "      <td>1</td>\n",
       "    </tr>\n",
       "  </tbody>\n",
       "</table>\n",
       "</div>"
      ],
      "text/plain": [
       "   female  male\n",
       "0       0     1\n",
       "1       1     0\n",
       "2       1     0\n",
       "3       1     0\n",
       "4       0     1"
      ]
     },
     "execution_count": 12,
     "metadata": {},
     "output_type": "execute_result"
    }
   ],
   "source": [
    "dummies=pd.get_dummies(inputs.Sex)\n",
    "dummies.head()"
   ]
  },
  {
   "cell_type": "code",
   "execution_count": 13,
   "id": "737075c7",
   "metadata": {},
   "outputs": [
    {
     "data": {
      "text/html": [
       "<div>\n",
       "<style scoped>\n",
       "    .dataframe tbody tr th:only-of-type {\n",
       "        vertical-align: middle;\n",
       "    }\n",
       "\n",
       "    .dataframe tbody tr th {\n",
       "        vertical-align: top;\n",
       "    }\n",
       "\n",
       "    .dataframe thead th {\n",
       "        text-align: right;\n",
       "    }\n",
       "</style>\n",
       "<table border=\"1\" class=\"dataframe\">\n",
       "  <thead>\n",
       "    <tr style=\"text-align: right;\">\n",
       "      <th></th>\n",
       "      <th>Pclass</th>\n",
       "      <th>Sex</th>\n",
       "      <th>Age</th>\n",
       "      <th>Fare</th>\n",
       "      <th>female</th>\n",
       "      <th>male</th>\n",
       "    </tr>\n",
       "  </thead>\n",
       "  <tbody>\n",
       "    <tr>\n",
       "      <th>0</th>\n",
       "      <td>3</td>\n",
       "      <td>male</td>\n",
       "      <td>22.0</td>\n",
       "      <td>7.2500</td>\n",
       "      <td>0</td>\n",
       "      <td>1</td>\n",
       "    </tr>\n",
       "    <tr>\n",
       "      <th>1</th>\n",
       "      <td>1</td>\n",
       "      <td>female</td>\n",
       "      <td>38.0</td>\n",
       "      <td>71.2833</td>\n",
       "      <td>1</td>\n",
       "      <td>0</td>\n",
       "    </tr>\n",
       "    <tr>\n",
       "      <th>2</th>\n",
       "      <td>3</td>\n",
       "      <td>female</td>\n",
       "      <td>26.0</td>\n",
       "      <td>7.9250</td>\n",
       "      <td>1</td>\n",
       "      <td>0</td>\n",
       "    </tr>\n",
       "  </tbody>\n",
       "</table>\n",
       "</div>"
      ],
      "text/plain": [
       "   Pclass     Sex   Age     Fare  female  male\n",
       "0       3    male  22.0   7.2500       0     1\n",
       "1       1  female  38.0  71.2833       1     0\n",
       "2       3  female  26.0   7.9250       1     0"
      ]
     },
     "execution_count": 13,
     "metadata": {},
     "output_type": "execute_result"
    }
   ],
   "source": [
    "inputs=pd.concat([inputs,dummies],axis='columns')\n",
    "inputs.head(3)"
   ]
  },
  {
   "cell_type": "code",
   "execution_count": 15,
   "id": "14ed63d7",
   "metadata": {},
   "outputs": [
    {
     "data": {
      "text/html": [
       "<div>\n",
       "<style scoped>\n",
       "    .dataframe tbody tr th:only-of-type {\n",
       "        vertical-align: middle;\n",
       "    }\n",
       "\n",
       "    .dataframe tbody tr th {\n",
       "        vertical-align: top;\n",
       "    }\n",
       "\n",
       "    .dataframe thead th {\n",
       "        text-align: right;\n",
       "    }\n",
       "</style>\n",
       "<table border=\"1\" class=\"dataframe\">\n",
       "  <thead>\n",
       "    <tr style=\"text-align: right;\">\n",
       "      <th></th>\n",
       "      <th>Pclass</th>\n",
       "      <th>Age</th>\n",
       "      <th>Fare</th>\n",
       "      <th>female</th>\n",
       "      <th>male</th>\n",
       "    </tr>\n",
       "  </thead>\n",
       "  <tbody>\n",
       "    <tr>\n",
       "      <th>0</th>\n",
       "      <td>3</td>\n",
       "      <td>22.0</td>\n",
       "      <td>7.2500</td>\n",
       "      <td>0</td>\n",
       "      <td>1</td>\n",
       "    </tr>\n",
       "    <tr>\n",
       "      <th>1</th>\n",
       "      <td>1</td>\n",
       "      <td>38.0</td>\n",
       "      <td>71.2833</td>\n",
       "      <td>1</td>\n",
       "      <td>0</td>\n",
       "    </tr>\n",
       "    <tr>\n",
       "      <th>2</th>\n",
       "      <td>3</td>\n",
       "      <td>26.0</td>\n",
       "      <td>7.9250</td>\n",
       "      <td>1</td>\n",
       "      <td>0</td>\n",
       "    </tr>\n",
       "  </tbody>\n",
       "</table>\n",
       "</div>"
      ],
      "text/plain": [
       "   Pclass   Age     Fare  female  male\n",
       "0       3  22.0   7.2500       0     1\n",
       "1       1  38.0  71.2833       1     0\n",
       "2       3  26.0   7.9250       1     0"
      ]
     },
     "execution_count": 15,
     "metadata": {},
     "output_type": "execute_result"
    }
   ],
   "source": [
    "inputs.drop('Sex',axis='columns',inplace=True)\n",
    "inputs.head(3)"
   ]
  },
  {
   "cell_type": "code",
   "execution_count": 16,
   "id": "85d0ca03",
   "metadata": {},
   "outputs": [
    {
     "data": {
      "text/plain": [
       "Index(['Age'], dtype='object')"
      ]
     },
     "execution_count": 16,
     "metadata": {},
     "output_type": "execute_result"
    }
   ],
   "source": [
    "inputs.columns[inputs.isna().any()]"
   ]
  },
  {
   "cell_type": "code",
   "execution_count": 18,
   "id": "f2621f64",
   "metadata": {},
   "outputs": [
    {
     "data": {
      "text/plain": [
       "0     22.0\n",
       "1     38.0\n",
       "2     26.0\n",
       "3     35.0\n",
       "4     35.0\n",
       "5      NaN\n",
       "6     54.0\n",
       "7      2.0\n",
       "8     27.0\n",
       "9     14.0\n",
       "10     4.0\n",
       "11    58.0\n",
       "12    20.0\n",
       "13    39.0\n",
       "14    14.0\n",
       "15    55.0\n",
       "16     2.0\n",
       "17     NaN\n",
       "18    31.0\n",
       "19     NaN\n",
       "Name: Age, dtype: float64"
      ]
     },
     "execution_count": 18,
     "metadata": {},
     "output_type": "execute_result"
    }
   ],
   "source": [
    "inputs.Age[:20]"
   ]
  },
  {
   "cell_type": "code",
   "execution_count": 20,
   "id": "614099e1",
   "metadata": {
    "scrolled": true
   },
   "outputs": [
    {
     "data": {
      "text/html": [
       "<div>\n",
       "<style scoped>\n",
       "    .dataframe tbody tr th:only-of-type {\n",
       "        vertical-align: middle;\n",
       "    }\n",
       "\n",
       "    .dataframe tbody tr th {\n",
       "        vertical-align: top;\n",
       "    }\n",
       "\n",
       "    .dataframe thead th {\n",
       "        text-align: right;\n",
       "    }\n",
       "</style>\n",
       "<table border=\"1\" class=\"dataframe\">\n",
       "  <thead>\n",
       "    <tr style=\"text-align: right;\">\n",
       "      <th></th>\n",
       "      <th>Pclass</th>\n",
       "      <th>Age</th>\n",
       "      <th>Fare</th>\n",
       "      <th>female</th>\n",
       "      <th>male</th>\n",
       "    </tr>\n",
       "  </thead>\n",
       "  <tbody>\n",
       "    <tr>\n",
       "      <th>0</th>\n",
       "      <td>3</td>\n",
       "      <td>22.0</td>\n",
       "      <td>7.2500</td>\n",
       "      <td>0</td>\n",
       "      <td>1</td>\n",
       "    </tr>\n",
       "    <tr>\n",
       "      <th>1</th>\n",
       "      <td>1</td>\n",
       "      <td>38.0</td>\n",
       "      <td>71.2833</td>\n",
       "      <td>1</td>\n",
       "      <td>0</td>\n",
       "    </tr>\n",
       "    <tr>\n",
       "      <th>2</th>\n",
       "      <td>3</td>\n",
       "      <td>26.0</td>\n",
       "      <td>7.9250</td>\n",
       "      <td>1</td>\n",
       "      <td>0</td>\n",
       "    </tr>\n",
       "    <tr>\n",
       "      <th>3</th>\n",
       "      <td>1</td>\n",
       "      <td>35.0</td>\n",
       "      <td>53.1000</td>\n",
       "      <td>1</td>\n",
       "      <td>0</td>\n",
       "    </tr>\n",
       "    <tr>\n",
       "      <th>4</th>\n",
       "      <td>3</td>\n",
       "      <td>35.0</td>\n",
       "      <td>8.0500</td>\n",
       "      <td>0</td>\n",
       "      <td>1</td>\n",
       "    </tr>\n",
       "  </tbody>\n",
       "</table>\n",
       "</div>"
      ],
      "text/plain": [
       "   Pclass   Age     Fare  female  male\n",
       "0       3  22.0   7.2500       0     1\n",
       "1       1  38.0  71.2833       1     0\n",
       "2       3  26.0   7.9250       1     0\n",
       "3       1  35.0  53.1000       1     0\n",
       "4       3  35.0   8.0500       0     1"
      ]
     },
     "execution_count": 20,
     "metadata": {},
     "output_type": "execute_result"
    }
   ],
   "source": [
    "inputs.Age=inputs.Age.fillna(inputs.Age.mean())\n",
    "inputs.head()"
   ]
  },
  {
   "cell_type": "code",
   "execution_count": 21,
   "id": "f33a8277",
   "metadata": {},
   "outputs": [],
   "source": [
    "from sklearn.model_selection import train_test_split\n",
    "X_train,X_test,y_train,y_test=train_test_split(inputs,target,test_size=0.2)"
   ]
  },
  {
   "cell_type": "code",
   "execution_count": 22,
   "id": "7f489a0f",
   "metadata": {},
   "outputs": [
    {
     "data": {
      "text/plain": [
       "712"
      ]
     },
     "execution_count": 22,
     "metadata": {},
     "output_type": "execute_result"
    }
   ],
   "source": [
    "len(X_train)"
   ]
  },
  {
   "cell_type": "code",
   "execution_count": 23,
   "id": "0204d6f7",
   "metadata": {},
   "outputs": [
    {
     "data": {
      "text/plain": [
       "179"
      ]
     },
     "execution_count": 23,
     "metadata": {},
     "output_type": "execute_result"
    }
   ],
   "source": [
    "len(X_test)"
   ]
  },
  {
   "cell_type": "code",
   "execution_count": 24,
   "id": "b5f37f12",
   "metadata": {},
   "outputs": [
    {
     "data": {
      "text/plain": [
       "891"
      ]
     },
     "execution_count": 24,
     "metadata": {},
     "output_type": "execute_result"
    }
   ],
   "source": [
    "len(inputs)"
   ]
  },
  {
   "cell_type": "code",
   "execution_count": 26,
   "id": "c9b732dd",
   "metadata": {},
   "outputs": [],
   "source": [
    "from sklearn.naive_bayes import GaussianNB\n",
    "model=GaussianNB()"
   ]
  },
  {
   "cell_type": "code",
   "execution_count": 27,
   "id": "b76c542b",
   "metadata": {},
   "outputs": [
    {
     "data": {
      "text/plain": [
       "GaussianNB()"
      ]
     },
     "execution_count": 27,
     "metadata": {},
     "output_type": "execute_result"
    }
   ],
   "source": [
    "model.fit(X_train,y_train)"
   ]
  },
  {
   "cell_type": "code",
   "execution_count": 28,
   "id": "050d624a",
   "metadata": {},
   "outputs": [
    {
     "data": {
      "text/plain": [
       "0.8268156424581006"
      ]
     },
     "execution_count": 28,
     "metadata": {},
     "output_type": "execute_result"
    }
   ],
   "source": [
    "model.score(X_test,y_test)"
   ]
  },
  {
   "cell_type": "code",
   "execution_count": 29,
   "id": "ddd28ffb",
   "metadata": {},
   "outputs": [
    {
     "data": {
      "text/plain": [
       "array([[7.53652294e-03, 9.92463477e-01],\n",
       "       [8.90823112e-01, 1.09176888e-01],\n",
       "       [8.15368056e-01, 1.84631944e-01],\n",
       "       [9.76455544e-01, 2.35444565e-02],\n",
       "       [9.62818627e-01, 3.71813734e-02],\n",
       "       [7.96077374e-02, 9.20392263e-01],\n",
       "       [3.94164064e-02, 9.60583594e-01],\n",
       "       [8.97060766e-03, 9.91029392e-01],\n",
       "       [9.88052413e-01, 1.19475871e-02],\n",
       "       [7.54583429e-02, 9.24541657e-01],\n",
       "       [3.00340447e-02, 9.69965955e-01],\n",
       "       [9.85201800e-01, 1.47982002e-02],\n",
       "       [8.57263913e-01, 1.42736087e-01],\n",
       "       [4.45314466e-38, 1.00000000e+00],\n",
       "       [2.10557990e-02, 9.78944201e-01],\n",
       "       [8.65449799e-01, 1.34550201e-01],\n",
       "       [9.65946252e-01, 3.40537479e-02],\n",
       "       [9.83918917e-01, 1.60810825e-02],\n",
       "       [4.04330152e-02, 9.59566985e-01],\n",
       "       [7.93799034e-02, 9.20620097e-01],\n",
       "       [9.85158517e-01, 1.48414832e-02],\n",
       "       [9.87851230e-01, 1.21487698e-02],\n",
       "       [3.85918813e-02, 9.61408119e-01],\n",
       "       [9.88013984e-01, 1.19860159e-02],\n",
       "       [4.61330574e-03, 9.95386694e-01],\n",
       "       [9.76588484e-01, 2.34115161e-02],\n",
       "       [9.85417353e-01, 1.45826474e-02],\n",
       "       [9.87410693e-01, 1.25893068e-02],\n",
       "       [9.87758237e-01, 1.22417626e-02],\n",
       "       [2.28635352e-12, 1.00000000e+00],\n",
       "       [9.83918917e-01, 1.60810825e-02],\n",
       "       [3.37275028e-02, 9.66272497e-01],\n",
       "       [8.11704771e-02, 9.18829523e-01],\n",
       "       [9.87450375e-01, 1.25496252e-02],\n",
       "       [5.09985862e-05, 9.99949001e-01],\n",
       "       [9.85744597e-01, 1.42554029e-02],\n",
       "       [6.74926169e-02, 9.32507383e-01],\n",
       "       [3.68301375e-02, 9.63169863e-01],\n",
       "       [9.56497255e-01, 4.35027450e-02],\n",
       "       [1.58058307e-03, 9.98419417e-01],\n",
       "       [9.87453501e-01, 1.25464991e-02],\n",
       "       [9.87913182e-01, 1.20868176e-02],\n",
       "       [2.10921465e-03, 9.97890785e-01],\n",
       "       [9.87375136e-01, 1.26248638e-02],\n",
       "       [9.69557973e-01, 3.04420268e-02],\n",
       "       [9.87450375e-01, 1.25496252e-02],\n",
       "       [4.31733956e-02, 9.56826604e-01],\n",
       "       [9.88018516e-01, 1.19814838e-02],\n",
       "       [9.86774455e-01, 1.32255450e-02],\n",
       "       [5.70006153e-02, 9.42999385e-01],\n",
       "       [9.68073899e-01, 3.19261015e-02],\n",
       "       [7.98201715e-02, 9.20179829e-01],\n",
       "       [9.87171189e-01, 1.28288109e-02],\n",
       "       [9.66167474e-01, 3.38325259e-02],\n",
       "       [9.86377938e-01, 1.36220621e-02],\n",
       "       [3.00973014e-02, 9.69902699e-01],\n",
       "       [9.86916850e-01, 1.30831498e-02],\n",
       "       [9.87934193e-01, 1.20658068e-02],\n",
       "       [3.99069859e-02, 9.60093014e-01],\n",
       "       [9.66749547e-01, 3.32504528e-02],\n",
       "       [1.81485817e-03, 9.98185142e-01],\n",
       "       [9.87443173e-01, 1.25568269e-02],\n",
       "       [1.77752309e-03, 9.98222477e-01],\n",
       "       [3.53574481e-02, 9.64642552e-01],\n",
       "       [9.73048059e-01, 2.69519412e-02],\n",
       "       [8.75772041e-01, 1.24227959e-01],\n",
       "       [3.53408262e-02, 9.64659174e-01],\n",
       "       [9.87493049e-01, 1.25069507e-02],\n",
       "       [3.98025287e-02, 9.60197471e-01],\n",
       "       [9.87851230e-01, 1.21487698e-02],\n",
       "       [9.87549159e-01, 1.24508408e-02],\n",
       "       [9.85219523e-01, 1.47804770e-02],\n",
       "       [8.11935026e-02, 9.18806497e-01],\n",
       "       [9.87888737e-01, 1.21112632e-02],\n",
       "       [6.05637088e-02, 9.39436291e-01],\n",
       "       [8.35460810e-01, 1.64539190e-01],\n",
       "       [9.86780547e-01, 1.32194529e-02],\n",
       "       [8.22183725e-01, 1.77816275e-01],\n",
       "       [7.63024154e-06, 9.99992370e-01],\n",
       "       [3.40606287e-02, 9.65939371e-01],\n",
       "       [3.61375292e-03, 9.96386247e-01],\n",
       "       [9.73841406e-01, 2.61585943e-02],\n",
       "       [9.69669784e-01, 3.03302164e-02],\n",
       "       [9.72976377e-01, 2.70236226e-02],\n",
       "       [8.11704771e-02, 9.18829523e-01],\n",
       "       [9.87171189e-01, 1.28288109e-02],\n",
       "       [8.94475101e-01, 1.05524899e-01],\n",
       "       [5.95895487e-01, 4.04104513e-01],\n",
       "       [9.87113582e-01, 1.28864180e-02],\n",
       "       [3.46297395e-02, 9.65370261e-01],\n",
       "       [8.12768425e-01, 1.87231575e-01],\n",
       "       [1.78634344e-06, 9.99998214e-01],\n",
       "       [9.87609434e-01, 1.23905663e-02],\n",
       "       [9.72023218e-01, 2.79767817e-02],\n",
       "       [8.03343852e-02, 9.19665615e-01],\n",
       "       [9.76736730e-01, 2.32632698e-02],\n",
       "       [7.81190792e-02, 9.21880921e-01],\n",
       "       [9.87610632e-01, 1.23893682e-02],\n",
       "       [8.50033218e-01, 1.49966782e-01],\n",
       "       [1.81510366e-05, 9.99981849e-01],\n",
       "       [9.85428008e-01, 1.45719917e-02],\n",
       "       [9.58119131e-01, 4.18808688e-02],\n",
       "       [8.38181981e-01, 1.61818019e-01],\n",
       "       [3.31568831e-02, 9.66843117e-01],\n",
       "       [9.81333488e-01, 1.86665123e-02],\n",
       "       [8.86359448e-01, 1.13640552e-01],\n",
       "       [8.54751409e-02, 9.14524859e-01],\n",
       "       [9.86260455e-01, 1.37395446e-02],\n",
       "       [8.95733674e-01, 1.04266326e-01],\n",
       "       [2.04486617e-03, 9.97955134e-01],\n",
       "       [8.85984366e-01, 1.14015634e-01],\n",
       "       [8.11704771e-02, 9.18829523e-01],\n",
       "       [7.96508847e-01, 2.03491153e-01],\n",
       "       [5.37477710e-03, 9.94625223e-01],\n",
       "       [6.07475723e-02, 9.39252428e-01],\n",
       "       [9.87389160e-01, 1.26108398e-02],\n",
       "       [8.97380701e-01, 1.02619299e-01],\n",
       "       [9.87237131e-01, 1.27628686e-02],\n",
       "       [8.18554077e-02, 9.18144592e-01],\n",
       "       [1.36535668e-02, 9.86346433e-01],\n",
       "       [8.43593233e-01, 1.56406767e-01],\n",
       "       [9.87410693e-01, 1.25893068e-02],\n",
       "       [3.83484964e-03, 9.96165150e-01],\n",
       "       [6.60156753e-02, 9.33984325e-01],\n",
       "       [6.60499994e-09, 9.99999993e-01],\n",
       "       [5.72953926e-03, 9.94270461e-01],\n",
       "       [3.42956365e-11, 1.00000000e+00],\n",
       "       [3.66536249e-02, 9.63346375e-01],\n",
       "       [9.87736651e-01, 1.22633489e-02],\n",
       "       [9.68109965e-01, 3.18900353e-02],\n",
       "       [9.87047124e-01, 1.29528761e-02],\n",
       "       [9.87394326e-01, 1.26056742e-02],\n",
       "       [9.85079651e-01, 1.49203488e-02],\n",
       "       [7.73859022e-02, 9.22614098e-01],\n",
       "       [9.71763627e-01, 2.82363731e-02],\n",
       "       [1.62856958e-02, 9.83714304e-01],\n",
       "       [9.72019871e-01, 2.79801294e-02],\n",
       "       [8.42251942e-01, 1.57748058e-01],\n",
       "       [9.87476883e-01, 1.25231166e-02],\n",
       "       [9.87845976e-01, 1.21540238e-02],\n",
       "       [3.84641006e-02, 9.61535899e-01],\n",
       "       [9.87237131e-01, 1.27628686e-02],\n",
       "       [9.86508497e-01, 1.34915033e-02],\n",
       "       [9.87409585e-01, 1.25904154e-02],\n",
       "       [9.87617705e-01, 1.23822952e-02],\n",
       "       [8.40992971e-01, 1.59007029e-01],\n",
       "       [9.74869850e-06, 9.99990251e-01],\n",
       "       [9.87336687e-01, 1.26633131e-02],\n",
       "       [9.86099117e-01, 1.39008826e-02],\n",
       "       [9.88156833e-01, 1.18431668e-02],\n",
       "       [6.82233936e-02, 9.31776606e-01],\n",
       "       [9.87989233e-01, 1.20107670e-02],\n",
       "       [9.87561289e-01, 1.24387108e-02],\n",
       "       [9.71962656e-01, 2.80373443e-02],\n",
       "       [9.72192864e-01, 2.78071364e-02],\n",
       "       [9.87553768e-01, 1.24462324e-02],\n",
       "       [8.93245128e-01, 1.06754872e-01],\n",
       "       [7.58844456e-01, 2.41155544e-01],\n",
       "       [5.65433459e-03, 9.94345665e-01],\n",
       "       [3.86024119e-02, 9.61397588e-01],\n",
       "       [9.87436168e-01, 1.25638322e-02],\n",
       "       [8.18835851e-02, 9.18116415e-01],\n",
       "       [5.32166784e-01, 4.67833216e-01],\n",
       "       [8.23824629e-02, 9.17617537e-01],\n",
       "       [6.55668348e-02, 9.34433165e-01],\n",
       "       [9.87833801e-01, 1.21661993e-02],\n",
       "       [9.62831971e-01, 3.71680292e-02],\n",
       "       [9.87450375e-01, 1.25496252e-02],\n",
       "       [9.76735053e-01, 2.32649473e-02],\n",
       "       [7.98201715e-02, 9.20179829e-01],\n",
       "       [9.84724601e-01, 1.52753994e-02],\n",
       "       [8.43450468e-01, 1.56549532e-01],\n",
       "       [2.92446732e-06, 9.99997076e-01],\n",
       "       [3.61180731e-02, 9.63881927e-01],\n",
       "       [1.96935949e-03, 9.98030641e-01],\n",
       "       [9.87414001e-01, 1.25859994e-02],\n",
       "       [8.82364682e-01, 1.17635318e-01],\n",
       "       [8.12078712e-02, 9.18792129e-01],\n",
       "       [9.87722764e-01, 1.22772358e-02]])"
      ]
     },
     "execution_count": 29,
     "metadata": {},
     "output_type": "execute_result"
    }
   ],
   "source": [
    "model.predict_proba(X_test)"
   ]
  },
  {
   "cell_type": "code",
   "execution_count": 30,
   "id": "54d07d20",
   "metadata": {},
   "outputs": [
    {
     "data": {
      "text/plain": [
       "array([1, 0, 0, 0, 0, 1, 1, 1, 0, 1], dtype=int64)"
      ]
     },
     "execution_count": 30,
     "metadata": {},
     "output_type": "execute_result"
    }
   ],
   "source": [
    "model.predict(X_test[:10])"
   ]
  },
  {
   "cell_type": "code",
   "execution_count": 31,
   "id": "9d3b7b05",
   "metadata": {},
   "outputs": [
    {
     "data": {
      "text/plain": [
       "556    1\n",
       "507    1\n",
       "434    0\n",
       "787    0\n",
       "159    0\n",
       "100    0\n",
       "706    1\n",
       "796    1\n",
       "104    0\n",
       "142    1\n",
       "Name: Survived, dtype: int64"
      ]
     },
     "execution_count": 31,
     "metadata": {},
     "output_type": "execute_result"
    }
   ],
   "source": [
    "y_test[:10]"
   ]
  },
  {
   "cell_type": "code",
   "execution_count": null,
   "id": "872f00ef",
   "metadata": {},
   "outputs": [],
   "source": []
  }
 ],
 "metadata": {
  "kernelspec": {
   "display_name": "Python 3 (ipykernel)",
   "language": "python",
   "name": "python3"
  },
  "language_info": {
   "codemirror_mode": {
    "name": "ipython",
    "version": 3
   },
   "file_extension": ".py",
   "mimetype": "text/x-python",
   "name": "python",
   "nbconvert_exporter": "python",
   "pygments_lexer": "ipython3",
   "version": "3.9.12"
  }
 },
 "nbformat": 4,
 "nbformat_minor": 5
}
