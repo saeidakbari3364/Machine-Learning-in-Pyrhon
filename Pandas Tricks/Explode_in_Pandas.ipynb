{
  "cells": [
    {
      "cell_type": "markdown",
      "metadata": {
        "id": "xZ27kXWWu-ox"
      },
      "source": [
        "<div class=\"alert alert-block alert-success\">\n",
        "    <h1 align=\"center\">Pandas Trick 18</h1>\n",
        "    <h3 align=\"center\">Explode in Pandas</h3>\n",
        "\n",
        "</div>"
      ]
    },
    {
      "cell_type": "markdown",
      "metadata": {
        "id": "gWZyYmS_UE_L"
      },
      "source": [
        "### Importing the libraries"
      ]
    },
    {
      "cell_type": "code",
      "execution_count": null,
      "metadata": {
        "id": "Ot1G04stu-o0"
      },
      "outputs": [],
      "source": [
        "import warnings\n",
        "warnings.filterwarnings(\"ignore\")"
      ]
    },
    {
      "cell_type": "code",
      "execution_count": null,
      "metadata": {
        "id": "MxkJoQBkUIHC"
      },
      "outputs": [],
      "source": [
        "import pandas as pd"
      ]
    },
    {
      "cell_type": "code",
      "execution_count": null,
      "metadata": {
        "colab": {
          "base_uri": "https://localhost:8080/",
          "height": 34
        },
        "id": "ZaTwK7ojXr2F",
        "outputId": "0b27a96d-d11a-43e8-ab4b-87c1f01896fe"
      },
      "outputs": [
        {
          "data": {
            "text/plain": [
              "'1.5.1'"
            ]
          },
          "execution_count": 15,
          "metadata": {},
          "output_type": "execute_result"
        }
      ],
      "source": [
        "pd.__version__"
      ]
    },
    {
      "cell_type": "code",
      "execution_count": null,
      "metadata": {
        "id": "iVlK29Q-u-o2"
      },
      "outputs": [],
      "source": [
        "d = {\"Team\":[\"FC Barcelona\", \"FC Real Madrid\"],\n",
        "    \"Players\":[[\"Ter Stegen\", \"Semedo\", \"Piqué\", \"Lenglet\", \"Alba\", \"Rakitic\", \"De Jong\", \"Sergi Roberto\", \"Messi\", \"Suárez\", \"Griezmann\"], \\\n",
        "               [\"Courtois\", \"Carvajal\", \"Varane\", \"Sergio Ramos\", \"Mendy\", \"Kroos\", \"Valverde\", \"Casemiro\", \"Isco\", \"Benzema\", \"Bale\"]]}\n"
      ]
    },
    {
      "cell_type": "code",
      "execution_count": null,
      "metadata": {
        "id": "_WharVQ2u-o2",
        "outputId": "3d0ccaee-6470-4090-cced-5b8e42b94418"
      },
      "outputs": [
        {
          "data": {
            "text/html": [
              "<div>\n",
              "<style scoped>\n",
              "    .dataframe tbody tr th:only-of-type {\n",
              "        vertical-align: middle;\n",
              "    }\n",
              "\n",
              "    .dataframe tbody tr th {\n",
              "        vertical-align: top;\n",
              "    }\n",
              "\n",
              "    .dataframe thead th {\n",
              "        text-align: right;\n",
              "    }\n",
              "</style>\n",
              "<table border=\"1\" class=\"dataframe\">\n",
              "  <thead>\n",
              "    <tr style=\"text-align: right;\">\n",
              "      <th></th>\n",
              "      <th>Team</th>\n",
              "      <th>Players</th>\n",
              "    </tr>\n",
              "  </thead>\n",
              "  <tbody>\n",
              "    <tr>\n",
              "      <th>0</th>\n",
              "      <td>FC Barcelona</td>\n",
              "      <td>[Ter Stegen, Semedo, Piqué, Lenglet, Alba, Rak...</td>\n",
              "    </tr>\n",
              "    <tr>\n",
              "      <th>1</th>\n",
              "      <td>FC Real Madrid</td>\n",
              "      <td>[Courtois, Carvajal, Varane, Sergio Ramos, Men...</td>\n",
              "    </tr>\n",
              "  </tbody>\n",
              "</table>\n",
              "</div>"
            ],
            "text/plain": [
              "             Team                                            Players\n",
              "0    FC Barcelona  [Ter Stegen, Semedo, Piqué, Lenglet, Alba, Rak...\n",
              "1  FC Real Madrid  [Courtois, Carvajal, Varane, Sergio Ramos, Men..."
            ]
          },
          "execution_count": 24,
          "metadata": {},
          "output_type": "execute_result"
        }
      ],
      "source": [
        "#Notice that we have a list of players for each team. Let's generate a row for each player.\n",
        "df = pd.DataFrame(d)\n",
        "df\n"
      ]
    },
    {
      "cell_type": "code",
      "execution_count": null,
      "metadata": {
        "id": "dmAmbPJMu-o3",
        "outputId": "41ee7c50-f179-40f7-af32-3d47f8129085"
      },
      "outputs": [
        {
          "data": {
            "text/html": [
              "<div>\n",
              "<style scoped>\n",
              "    .dataframe tbody tr th:only-of-type {\n",
              "        vertical-align: middle;\n",
              "    }\n",
              "\n",
              "    .dataframe tbody tr th {\n",
              "        vertical-align: top;\n",
              "    }\n",
              "\n",
              "    .dataframe thead th {\n",
              "        text-align: right;\n",
              "    }\n",
              "</style>\n",
              "<table border=\"1\" class=\"dataframe\">\n",
              "  <thead>\n",
              "    <tr style=\"text-align: right;\">\n",
              "      <th></th>\n",
              "      <th>Team</th>\n",
              "      <th>Players</th>\n",
              "    </tr>\n",
              "  </thead>\n",
              "  <tbody>\n",
              "    <tr>\n",
              "      <th>0</th>\n",
              "      <td>FC Barcelona</td>\n",
              "      <td>Ter Stegen</td>\n",
              "    </tr>\n",
              "    <tr>\n",
              "      <th>0</th>\n",
              "      <td>FC Barcelona</td>\n",
              "      <td>Semedo</td>\n",
              "    </tr>\n",
              "    <tr>\n",
              "      <th>0</th>\n",
              "      <td>FC Barcelona</td>\n",
              "      <td>Piqué</td>\n",
              "    </tr>\n",
              "    <tr>\n",
              "      <th>0</th>\n",
              "      <td>FC Barcelona</td>\n",
              "      <td>Lenglet</td>\n",
              "    </tr>\n",
              "    <tr>\n",
              "      <th>0</th>\n",
              "      <td>FC Barcelona</td>\n",
              "      <td>Alba</td>\n",
              "    </tr>\n",
              "    <tr>\n",
              "      <th>0</th>\n",
              "      <td>FC Barcelona</td>\n",
              "      <td>Rakitic</td>\n",
              "    </tr>\n",
              "    <tr>\n",
              "      <th>0</th>\n",
              "      <td>FC Barcelona</td>\n",
              "      <td>De Jong</td>\n",
              "    </tr>\n",
              "    <tr>\n",
              "      <th>0</th>\n",
              "      <td>FC Barcelona</td>\n",
              "      <td>Sergi Roberto</td>\n",
              "    </tr>\n",
              "    <tr>\n",
              "      <th>0</th>\n",
              "      <td>FC Barcelona</td>\n",
              "      <td>Messi</td>\n",
              "    </tr>\n",
              "    <tr>\n",
              "      <th>0</th>\n",
              "      <td>FC Barcelona</td>\n",
              "      <td>Suárez</td>\n",
              "    </tr>\n",
              "    <tr>\n",
              "      <th>0</th>\n",
              "      <td>FC Barcelona</td>\n",
              "      <td>Griezmann</td>\n",
              "    </tr>\n",
              "    <tr>\n",
              "      <th>1</th>\n",
              "      <td>FC Real Madrid</td>\n",
              "      <td>Courtois</td>\n",
              "    </tr>\n",
              "    <tr>\n",
              "      <th>1</th>\n",
              "      <td>FC Real Madrid</td>\n",
              "      <td>Carvajal</td>\n",
              "    </tr>\n",
              "    <tr>\n",
              "      <th>1</th>\n",
              "      <td>FC Real Madrid</td>\n",
              "      <td>Varane</td>\n",
              "    </tr>\n",
              "    <tr>\n",
              "      <th>1</th>\n",
              "      <td>FC Real Madrid</td>\n",
              "      <td>Sergio Ramos</td>\n",
              "    </tr>\n",
              "    <tr>\n",
              "      <th>1</th>\n",
              "      <td>FC Real Madrid</td>\n",
              "      <td>Mendy</td>\n",
              "    </tr>\n",
              "    <tr>\n",
              "      <th>1</th>\n",
              "      <td>FC Real Madrid</td>\n",
              "      <td>Kroos</td>\n",
              "    </tr>\n",
              "    <tr>\n",
              "      <th>1</th>\n",
              "      <td>FC Real Madrid</td>\n",
              "      <td>Valverde</td>\n",
              "    </tr>\n",
              "    <tr>\n",
              "      <th>1</th>\n",
              "      <td>FC Real Madrid</td>\n",
              "      <td>Casemiro</td>\n",
              "    </tr>\n",
              "    <tr>\n",
              "      <th>1</th>\n",
              "      <td>FC Real Madrid</td>\n",
              "      <td>Isco</td>\n",
              "    </tr>\n",
              "    <tr>\n",
              "      <th>1</th>\n",
              "      <td>FC Real Madrid</td>\n",
              "      <td>Benzema</td>\n",
              "    </tr>\n",
              "    <tr>\n",
              "      <th>1</th>\n",
              "      <td>FC Real Madrid</td>\n",
              "      <td>Bale</td>\n",
              "    </tr>\n",
              "  </tbody>\n",
              "</table>\n",
              "</div>"
            ],
            "text/plain": [
              "             Team        Players\n",
              "0    FC Barcelona     Ter Stegen\n",
              "0    FC Barcelona         Semedo\n",
              "0    FC Barcelona          Piqué\n",
              "0    FC Barcelona        Lenglet\n",
              "0    FC Barcelona           Alba\n",
              "0    FC Barcelona        Rakitic\n",
              "0    FC Barcelona        De Jong\n",
              "0    FC Barcelona  Sergi Roberto\n",
              "0    FC Barcelona          Messi\n",
              "0    FC Barcelona         Suárez\n",
              "0    FC Barcelona      Griezmann\n",
              "1  FC Real Madrid       Courtois\n",
              "1  FC Real Madrid       Carvajal\n",
              "1  FC Real Madrid         Varane\n",
              "1  FC Real Madrid   Sergio Ramos\n",
              "1  FC Real Madrid          Mendy\n",
              "1  FC Real Madrid          Kroos\n",
              "1  FC Real Madrid       Valverde\n",
              "1  FC Real Madrid       Casemiro\n",
              "1  FC Real Madrid           Isco\n",
              "1  FC Real Madrid        Benzema\n",
              "1  FC Real Madrid           Bale"
            ]
          },
          "execution_count": 25,
          "metadata": {},
          "output_type": "execute_result"
        }
      ],
      "source": [
        "#Using explode to generate new rows for each player\n",
        "df1 = df.explode(\"Players\")\n",
        "df1"
      ]
    },
    {
      "cell_type": "code",
      "execution_count": null,
      "metadata": {
        "id": "wjk3N5dTu-o3",
        "outputId": "729c0d11-0d6c-4a4a-bbbc-2902792d1cc5"
      },
      "outputs": [
        {
          "data": {
            "text/html": [
              "<div>\n",
              "<style scoped>\n",
              "    .dataframe tbody tr th:only-of-type {\n",
              "        vertical-align: middle;\n",
              "    }\n",
              "\n",
              "    .dataframe tbody tr th {\n",
              "        vertical-align: top;\n",
              "    }\n",
              "\n",
              "    .dataframe thead th {\n",
              "        text-align: right;\n",
              "    }\n",
              "</style>\n",
              "<table border=\"1\" class=\"dataframe\">\n",
              "  <thead>\n",
              "    <tr style=\"text-align: right;\">\n",
              "      <th></th>\n",
              "      <th>Team</th>\n",
              "      <th>Players</th>\n",
              "      <th>Imploded</th>\n",
              "    </tr>\n",
              "  </thead>\n",
              "  <tbody>\n",
              "    <tr>\n",
              "      <th>0</th>\n",
              "      <td>FC Barcelona</td>\n",
              "      <td>[Ter Stegen, Semedo, Piqué, Lenglet, Alba, Rak...</td>\n",
              "      <td>[Ter Stegen, Semedo, Piqué, Lenglet, Alba, Rak...</td>\n",
              "    </tr>\n",
              "    <tr>\n",
              "      <th>1</th>\n",
              "      <td>FC Real Madrid</td>\n",
              "      <td>[Courtois, Carvajal, Varane, Sergio Ramos, Men...</td>\n",
              "      <td>[Courtois, Carvajal, Varane, Sergio Ramos, Men...</td>\n",
              "    </tr>\n",
              "  </tbody>\n",
              "</table>\n",
              "</div>"
            ],
            "text/plain": [
              "             Team                                            Players  \\\n",
              "0    FC Barcelona  [Ter Stegen, Semedo, Piqué, Lenglet, Alba, Rak...   \n",
              "1  FC Real Madrid  [Courtois, Carvajal, Varane, Sergio Ramos, Men...   \n",
              "\n",
              "                                            Imploded  \n",
              "0  [Ter Stegen, Semedo, Piqué, Lenglet, Alba, Rak...  \n",
              "1  [Courtois, Carvajal, Varane, Sergio Ramos, Men...  "
            ]
          },
          "execution_count": 26,
          "metadata": {},
          "output_type": "execute_result"
        }
      ],
      "source": [
        "#Reverse this operation with groupby and agg\n",
        "df[\"Imploded\"] = df1.groupby(df1.index)[\"Players\"].agg(list)\n",
        "df"
      ]
    }
  ],
  "metadata": {
    "colab": {
      "provenance": [],
      "toc_visible": true
    },
    "kernelspec": {
      "display_name": "Python 3 (ipykernel)",
      "language": "python",
      "name": "python3"
    },
    "language_info": {
      "codemirror_mode": {
        "name": "ipython",
        "version": 3
      },
      "file_extension": ".py",
      "mimetype": "text/x-python",
      "name": "python",
      "nbconvert_exporter": "python",
      "pygments_lexer": "ipython3",
      "version": "3.9.13"
    }
  },
  "nbformat": 4,
  "nbformat_minor": 0
}