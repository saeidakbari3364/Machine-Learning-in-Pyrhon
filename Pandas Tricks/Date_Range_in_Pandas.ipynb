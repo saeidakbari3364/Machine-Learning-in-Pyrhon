{
  "cells": [
    {
      "cell_type": "markdown",
      "metadata": {
        "id": "KON1Ie6kMBWk"
      },
      "source": [
        "<div class=\"alert alert-block alert-success\">\n",
        "    <h1 align=\"center\">Pandas Trick 16</h1>\n",
        "    <h3 align=\"center\">Pandas Date Range</h3>\n",
        "    \n",
        "</div>"
      ]
    },
    {
      "cell_type": "markdown",
      "metadata": {
        "id": "gWZyYmS_UE_L"
      },
      "source": [
        "### Importing the libraries"
      ]
    },
    {
      "cell_type": "code",
      "execution_count": null,
      "metadata": {
        "id": "2hbe9UKGMBWo"
      },
      "outputs": [],
      "source": [
        "import warnings\n",
        "warnings.filterwarnings(\"ignore\")"
      ]
    },
    {
      "cell_type": "code",
      "execution_count": null,
      "metadata": {
        "id": "MxkJoQBkUIHC"
      },
      "outputs": [],
      "source": [
        "import pandas as pd"
      ]
    },
    {
      "cell_type": "code",
      "execution_count": null,
      "metadata": {
        "colab": {
          "base_uri": "https://localhost:8080/",
          "height": 34
        },
        "id": "ZaTwK7ojXr2F",
        "outputId": "0b27a96d-d11a-43e8-ab4b-87c1f01896fe"
      },
      "outputs": [
        {
          "data": {
            "text/plain": [
              "'1.5.1'"
            ]
          },
          "execution_count": 4,
          "metadata": {},
          "output_type": "execute_result"
        }
      ],
      "source": [
        "pd.__version__"
      ]
    },
    {
      "cell_type": "code",
      "execution_count": null,
      "metadata": {
        "id": "I9INhO8KMBWs",
        "outputId": "1de4272b-b222-4c47-d93c-2d3257a6688d"
      },
      "outputs": [
        {
          "data": {
            "text/plain": [
              "DatetimeIndex(['2022-11-15', '2022-11-16', '2022-11-17', '2022-11-18',\n",
              "               '2022-11-19', '2022-11-20', '2022-11-21'],\n",
              "              dtype='datetime64[ns]', freq='D')"
            ]
          },
          "execution_count": 6,
          "metadata": {},
          "output_type": "execute_result"
        }
      ],
      "source": [
        "#Creating a simple date range\n",
        "pd.date_range(start='2022-11-15', end='2022-11-21')"
      ]
    },
    {
      "cell_type": "code",
      "execution_count": null,
      "metadata": {
        "id": "rp0ki0OLMBWs",
        "outputId": "c486fde0-b537-4317-ebfa-81679cfc60c0"
      },
      "outputs": [
        {
          "data": {
            "text/plain": [
              "DatetimeIndex(['2023-01-01 00:00:00', '2023-01-01 00:06:00',\n",
              "               '2023-01-01 00:12:00', '2023-01-01 00:18:00',\n",
              "               '2023-01-01 00:24:00'],\n",
              "              dtype='datetime64[ns]', freq='6T')"
            ]
          },
          "execution_count": 22,
          "metadata": {},
          "output_type": "execute_result"
        }
      ],
      "source": [
        "#Creating a date range in 6 minute intervals\n",
        "pd.date_range(start='2023-01-01 00:00:00', end='2023-01-01 00:24:00', freq='6T')"
      ]
    },
    {
      "cell_type": "code",
      "execution_count": null,
      "metadata": {
        "id": "mCDLzm-xMBWt",
        "outputId": "32560d0a-335b-48c8-e996-3f868a2c0d37"
      },
      "outputs": [
        {
          "data": {
            "text/plain": [
              "DatetimeIndex(['2023-01-01', '2023-01-08', '2023-01-15', '2023-01-22',\n",
              "               '2023-01-29', '2023-02-05', '2023-02-12', '2023-02-19',\n",
              "               '2023-02-26', '2023-03-05'],\n",
              "              dtype='datetime64[ns]', freq='W-SUN')"
            ]
          },
          "execution_count": 29,
          "metadata": {},
          "output_type": "execute_result"
        }
      ],
      "source": [
        "#Weekly 'W' - Cutting your date range into weeks\n",
        "pd.date_range(start='2023-01-01', end='2023-03-10', freq='W')"
      ]
    },
    {
      "cell_type": "code",
      "execution_count": null,
      "metadata": {
        "id": "EIcdPoqZMBWt",
        "outputId": "fbea611d-b8ce-4101-be06-a18bf353ba1d"
      },
      "outputs": [
        {
          "data": {
            "text/plain": [
              "DatetimeIndex(['2020-01-01 00:00:00', '2020-01-01 00:02:40',\n",
              "               '2020-01-01 00:05:20', '2020-01-01 00:08:00',\n",
              "               '2020-01-01 00:10:40', '2020-01-01 00:13:20',\n",
              "               '2020-01-01 00:16:00', '2020-01-01 00:18:40',\n",
              "               '2020-01-01 00:21:20', '2020-01-01 00:24:00'],\n",
              "              dtype='datetime64[ns]', freq=None)"
            ]
          },
          "execution_count": 23,
          "metadata": {},
          "output_type": "execute_result"
        }
      ],
      "source": [
        "#Creating a date range with 10 periods\n",
        "pd.date_range(start='2020-01-01 00:00:00', end='2020-01-01 00:24:00', periods=10)"
      ]
    },
    {
      "cell_type": "code",
      "execution_count": null,
      "metadata": {
        "id": "dADtsb-YMBWu",
        "outputId": "52d7327b-c528-47fe-9121-b5d8a7bede7b"
      },
      "outputs": [
        {
          "data": {
            "text/plain": [
              "DatetimeIndex(['2023-03-31', '2023-06-30', '2023-09-30'], dtype='datetime64[ns]', freq='Q-DEC')"
            ]
          },
          "execution_count": 25,
          "metadata": {},
          "output_type": "execute_result"
        }
      ],
      "source": [
        "#Quarters 'Q' - Splitting your date range by quarters\n",
        "pd.date_range(start='2023-01-01', end='2023-12-01', freq='Q')"
      ]
    },
    {
      "cell_type": "code",
      "execution_count": null,
      "metadata": {
        "id": "hxRq-ydOMBWv",
        "outputId": "3d728c26-4f27-496d-af71-82608ff1f9d6"
      },
      "outputs": [
        {
          "data": {
            "text/plain": [
              "DatetimeIndex(['2023-01-31', '2023-06-30', '2023-11-30', '2024-04-30',\n",
              "               '2024-09-30'],\n",
              "              dtype='datetime64[ns]', freq='5M')"
            ]
          },
          "execution_count": 26,
          "metadata": {},
          "output_type": "execute_result"
        }
      ],
      "source": [
        "#Every 5 Months '5M' - Don't forget your can put a integer in front of your freq to expand the frequency\n",
        "pd.date_range(start='2023-01-01', end='2024-12-01', freq='5M')"
      ]
    }
  ],
  "metadata": {
    "colab": {
      "provenance": [],
      "toc_visible": true
    },
    "kernelspec": {
      "display_name": "Python 3 (ipykernel)",
      "language": "python",
      "name": "python3"
    },
    "language_info": {
      "codemirror_mode": {
        "name": "ipython",
        "version": 3
      },
      "file_extension": ".py",
      "mimetype": "text/x-python",
      "name": "python",
      "nbconvert_exporter": "python",
      "pygments_lexer": "ipython3",
      "version": "3.9.13"
    }
  },
  "nbformat": 4,
  "nbformat_minor": 0
}