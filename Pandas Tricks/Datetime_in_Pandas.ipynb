{
  "cells": [
    {
      "cell_type": "markdown",
      "metadata": {
        "id": "biV8X-Mov8lI"
      },
      "source": [
        "<div class=\"alert alert-block alert-success\">\n",
        "    <h1 align=\"center\">Pandas Trick 16</h1>\n",
        "    <h3 align=\"center\">Jalali DateTime in Pandas</h3>\n",
        "</div>"
      ]
    },
    {
      "cell_type": "markdown",
      "metadata": {
        "id": "Ju3TyY9ov8lK"
      },
      "source": [
        "### Installing Jalali pandas"
      ]
    },
    {
      "cell_type": "code",
      "execution_count": null,
      "metadata": {
        "id": "qZxKrhtav8lL",
        "outputId": "076c06d4-cc99-4f58-9740-f6921cdac0db"
      },
      "outputs": [
        {
          "name": "stdout",
          "output_type": "stream",
          "text": [
            "Collecting jalali-pandasNote: you may need to restart the kernel to use updated packages.\n"
          ]
        },
        {
          "name": "stderr",
          "output_type": "stream",
          "text": [
            "WARNING: Retrying (Retry(total=4, connect=None, read=None, redirect=None, status=None)) after connection broken by 'ProxyError('Cannot connect to proxy.', timeout('_ssl.c:1091: The handshake operation timed out'))': /simple/jalali-pandas/\n"
          ]
        },
        {
          "name": "stdout",
          "output_type": "stream",
          "text": [
            "\n",
            "  Downloading jalali_pandas-0.2.2-py3-none-any.whl (17 kB)\n",
            "Collecting jdatetime<4.0.0,>=3.6.4\n",
            "  Downloading jdatetime-3.8.2-py3-none-any.whl (13 kB)\n",
            "Installing collected packages: jdatetime, jalali-pandas\n",
            "Successfully installed jalali-pandas-0.2.2 jdatetime-3.8.2\n"
          ]
        }
      ],
      "source": [
        "pip install -U jalali-pandas"
      ]
    },
    {
      "cell_type": "markdown",
      "metadata": {
        "id": "gWZyYmS_UE_L"
      },
      "source": [
        "### Importing the libraries"
      ]
    },
    {
      "cell_type": "code",
      "execution_count": null,
      "metadata": {
        "id": "eIIbtlEdv8lN"
      },
      "outputs": [],
      "source": [
        "import warnings\n",
        "warnings.filterwarnings(\"ignore\")"
      ]
    },
    {
      "cell_type": "code",
      "execution_count": null,
      "metadata": {
        "id": "MxkJoQBkUIHC"
      },
      "outputs": [],
      "source": [
        "import pandas as pd"
      ]
    },
    {
      "cell_type": "code",
      "execution_count": null,
      "metadata": {
        "colab": {
          "base_uri": "https://localhost:8080/",
          "height": 34
        },
        "id": "ZaTwK7ojXr2F",
        "outputId": "0b27a96d-d11a-43e8-ab4b-87c1f01896fe"
      },
      "outputs": [
        {
          "data": {
            "text/plain": [
              "'1.5.1'"
            ]
          },
          "execution_count": 3,
          "metadata": {},
          "output_type": "execute_result"
        }
      ],
      "source": [
        "pd.__version__"
      ]
    },
    {
      "cell_type": "markdown",
      "metadata": {
        "id": "1E0Q3aoKUCRX"
      },
      "source": [
        "## DateTime in Pandas"
      ]
    },
    {
      "cell_type": "markdown",
      "metadata": {
        "id": "ptYqOQObv8lO"
      },
      "source": [
        "* The date-time default format is “YYYY-MM-DD”. Hence, November 15th, 2022, in the date format will be presented as “2022-11-15”. The datetime format can be changed and by changing we mean changing the sequence and style of the format."
      ]
    },
    {
      "cell_type": "markdown",
      "metadata": {
        "id": "1Xi0PHaNv8lY"
      },
      "source": [
        "Where, format is a string representing the type of required date format.\n",
        "\n",
        "* For year %y\n",
        "* For month %m\n",
        "* For day %d"
      ]
    },
    {
      "cell_type": "code",
      "execution_count": null,
      "metadata": {
        "id": "0sQ56Dm6v8lY",
        "outputId": "6346498f-b369-4826-dea8-c4a84f3d4b7a"
      },
      "outputs": [
        {
          "name": "stdout",
          "output_type": "stream",
          "text": [
            "Day 1    15,11,2022\n",
            "Day 2    16,11,2022\n",
            "Day 3    17,11,2022\n",
            "dtype: object\n"
          ]
        }
      ],
      "source": [
        "date_sr = pd.Series(pd.date_range('2022-11-15', periods=3, freq='D', tz='Asia/Tehran'))\n",
        "\n",
        "# Creating the index\n",
        "list1 = ['Day 1', 'Day 2', 'Day 3']\n",
        "\n",
        "# set the index\n",
        "date_sr.index = list1\n",
        "change_format = date_sr.dt.strftime('%d,%m,%Y')\n",
        "\n",
        "print(change_format)"
      ]
    },
    {
      "cell_type": "code",
      "execution_count": null,
      "metadata": {
        "id": "RbxZdiwav8lY",
        "outputId": "1c00b208-7d6a-4ecc-d4fe-623a034a8078"
      },
      "outputs": [
        {
          "name": "stdout",
          "output_type": "stream",
          "text": [
            "0    15/11/2022\n",
            "dtype: object\n"
          ]
        }
      ],
      "source": [
        "# change in date time format\n",
        "date_sr = pd.to_datetime(pd.Series(\"2022-11-15\"))\n",
        "change_format = date_sr.dt.strftime('%d/%m/%Y')\n",
        "\n",
        "print(change_format)"
      ]
    },
    {
      "cell_type": "code",
      "execution_count": null,
      "metadata": {
        "id": "DVG305pxv8lZ",
        "outputId": "10ca7c39-79a8-4a52-ec01-a582d1aaa61a"
      },
      "outputs": [
        {
          "name": "stdout",
          "output_type": "stream",
          "text": [
            "0    15-11-2022\n",
            "dtype: object\n"
          ]
        }
      ],
      "source": [
        "# change in date time format\n",
        "date_sr = pd.to_datetime(pd.Series(\"2022-11-15\"))\n",
        "change_format = date_sr.dt.strftime('%d-%m-%Y')\n",
        "\n",
        "print(change_format)"
      ]
    },
    {
      "cell_type": "code",
      "execution_count": null,
      "metadata": {
        "id": "B3wl2nnrv8lZ",
        "outputId": "3372ad02-ef4a-44c5-db52-556641ee3489"
      },
      "outputs": [
        {
          "data": {
            "text/html": [
              "<div>\n",
              "<style scoped>\n",
              "    .dataframe tbody tr th:only-of-type {\n",
              "        vertical-align: middle;\n",
              "    }\n",
              "\n",
              "    .dataframe tbody tr th {\n",
              "        vertical-align: top;\n",
              "    }\n",
              "\n",
              "    .dataframe thead th {\n",
              "        text-align: right;\n",
              "    }\n",
              "</style>\n",
              "<table border=\"1\" class=\"dataframe\">\n",
              "  <thead>\n",
              "    <tr style=\"text-align: right;\">\n",
              "      <th></th>\n",
              "      <th>date</th>\n",
              "      <th>value</th>\n",
              "    </tr>\n",
              "  </thead>\n",
              "  <tbody>\n",
              "    <tr>\n",
              "      <th>0</th>\n",
              "      <td>2022-03-10</td>\n",
              "      <td>100</td>\n",
              "    </tr>\n",
              "    <tr>\n",
              "      <th>1</th>\n",
              "      <td>2022-03-11</td>\n",
              "      <td>200</td>\n",
              "    </tr>\n",
              "    <tr>\n",
              "      <th>2</th>\n",
              "      <td>2022-03-12</td>\n",
              "      <td>300</td>\n",
              "    </tr>\n",
              "  </tbody>\n",
              "</table>\n",
              "</div>"
            ],
            "text/plain": [
              "        date  value\n",
              "0 2022-03-10    100\n",
              "1 2022-03-11    200\n",
              "2 2022-03-12    300"
            ]
          },
          "execution_count": 7,
          "metadata": {},
          "output_type": "execute_result"
        }
      ],
      "source": [
        "df = pd.DataFrame({'date': ['3/10/2022', '3/11/2022', '3/12/2022'],\n",
        "                   'value': [100, 200, 300]})\n",
        "df['date'] = pd.to_datetime(df['date'])\n",
        "df"
      ]
    },
    {
      "cell_type": "code",
      "execution_count": null,
      "metadata": {
        "id": "kz8K7X5pv8lZ",
        "outputId": "2aaa2c13-adc7-4494-ff6d-39dd4548b5a9"
      },
      "outputs": [
        {
          "data": {
            "text/html": [
              "<div>\n",
              "<style scoped>\n",
              "    .dataframe tbody tr th:only-of-type {\n",
              "        vertical-align: middle;\n",
              "    }\n",
              "\n",
              "    .dataframe tbody tr th {\n",
              "        vertical-align: top;\n",
              "    }\n",
              "\n",
              "    .dataframe thead th {\n",
              "        text-align: right;\n",
              "    }\n",
              "</style>\n",
              "<table border=\"1\" class=\"dataframe\">\n",
              "  <thead>\n",
              "    <tr style=\"text-align: right;\">\n",
              "      <th></th>\n",
              "      <th>date</th>\n",
              "      <th>value</th>\n",
              "    </tr>\n",
              "  </thead>\n",
              "  <tbody>\n",
              "    <tr>\n",
              "      <th>0</th>\n",
              "      <td>2022-10-03</td>\n",
              "      <td>100</td>\n",
              "    </tr>\n",
              "    <tr>\n",
              "      <th>1</th>\n",
              "      <td>2022-11-03</td>\n",
              "      <td>200</td>\n",
              "    </tr>\n",
              "    <tr>\n",
              "      <th>2</th>\n",
              "      <td>2022-12-03</td>\n",
              "      <td>300</td>\n",
              "    </tr>\n",
              "  </tbody>\n",
              "</table>\n",
              "</div>"
            ],
            "text/plain": [
              "        date  value\n",
              "0 2022-10-03    100\n",
              "1 2022-11-03    200\n",
              "2 2022-12-03    300"
            ]
          },
          "execution_count": 8,
          "metadata": {},
          "output_type": "execute_result"
        }
      ],
      "source": [
        "df = pd.DataFrame({'date': ['3/10/2022', '3/11/2022', '3/12/2022'],\n",
        "                   'value': [100, 200, 300]})\n",
        "\n",
        "df['date'] = pd.to_datetime(df['date'], dayfirst=True)\n",
        "df\n"
      ]
    },
    {
      "cell_type": "code",
      "execution_count": null,
      "metadata": {
        "id": "xjjXUIepv8lZ",
        "outputId": "25a9b947-650e-4d7d-a447-99d13f1e6f59"
      },
      "outputs": [
        {
          "data": {
            "text/html": [
              "<div>\n",
              "<style scoped>\n",
              "    .dataframe tbody tr th:only-of-type {\n",
              "        vertical-align: middle;\n",
              "    }\n",
              "\n",
              "    .dataframe tbody tr th {\n",
              "        vertical-align: top;\n",
              "    }\n",
              "\n",
              "    .dataframe thead th {\n",
              "        text-align: right;\n",
              "    }\n",
              "</style>\n",
              "<table border=\"1\" class=\"dataframe\">\n",
              "  <thead>\n",
              "    <tr style=\"text-align: right;\">\n",
              "      <th></th>\n",
              "      <th>date</th>\n",
              "      <th>value</th>\n",
              "    </tr>\n",
              "  </thead>\n",
              "  <tbody>\n",
              "    <tr>\n",
              "      <th>0</th>\n",
              "      <td>2022-10-06 20:30:00</td>\n",
              "      <td>100</td>\n",
              "    </tr>\n",
              "    <tr>\n",
              "      <th>1</th>\n",
              "      <td>2022-01-07 19:45:30</td>\n",
              "      <td>200</td>\n",
              "    </tr>\n",
              "    <tr>\n",
              "      <th>2</th>\n",
              "      <td>2022-12-10 04:05:01</td>\n",
              "      <td>300</td>\n",
              "    </tr>\n",
              "  </tbody>\n",
              "</table>\n",
              "</div>"
            ],
            "text/plain": [
              "                 date  value\n",
              "0 2022-10-06 20:30:00    100\n",
              "1 2022-01-07 19:45:30    200\n",
              "2 2022-12-10 04:05:01    300"
            ]
          },
          "execution_count": 9,
          "metadata": {},
          "output_type": "execute_result"
        }
      ],
      "source": [
        "df = pd.DataFrame({'date': ['2022-6-10 20:30:0',\n",
        "                            '2022-7-1 19:45:30',\n",
        "                            '2022-10-12 4:5:1'],\n",
        "                   'value': [100, 200, 300]})\n",
        "df['date'] = pd.to_datetime(df['date'], format=\"%Y-%d-%m %H:%M:%S\")\n",
        "df"
      ]
    },
    {
      "cell_type": "markdown",
      "metadata": {
        "id": "AbTB0d1Mv8la"
      },
      "source": [
        "### Assemble a datetime from multiple columns\n"
      ]
    },
    {
      "cell_type": "code",
      "execution_count": null,
      "metadata": {
        "id": "P189Ot0Rv8la",
        "outputId": "558b78c6-6533-44dd-e6e4-94d4fe2cd16e"
      },
      "outputs": [
        {
          "data": {
            "text/html": [
              "<div>\n",
              "<style scoped>\n",
              "    .dataframe tbody tr th:only-of-type {\n",
              "        vertical-align: middle;\n",
              "    }\n",
              "\n",
              "    .dataframe tbody tr th {\n",
              "        vertical-align: top;\n",
              "    }\n",
              "\n",
              "    .dataframe thead th {\n",
              "        text-align: right;\n",
              "    }\n",
              "</style>\n",
              "<table border=\"1\" class=\"dataframe\">\n",
              "  <thead>\n",
              "    <tr style=\"text-align: right;\">\n",
              "      <th></th>\n",
              "      <th>year</th>\n",
              "      <th>month</th>\n",
              "      <th>day</th>\n",
              "      <th>date</th>\n",
              "    </tr>\n",
              "  </thead>\n",
              "  <tbody>\n",
              "    <tr>\n",
              "      <th>0</th>\n",
              "      <td>2022</td>\n",
              "      <td>2</td>\n",
              "      <td>4</td>\n",
              "      <td>2022-02-04</td>\n",
              "    </tr>\n",
              "    <tr>\n",
              "      <th>1</th>\n",
              "      <td>2023</td>\n",
              "      <td>3</td>\n",
              "      <td>5</td>\n",
              "      <td>2023-03-05</td>\n",
              "    </tr>\n",
              "  </tbody>\n",
              "</table>\n",
              "</div>"
            ],
            "text/plain": [
              "   year  month  day       date\n",
              "0  2022      2    4 2022-02-04\n",
              "1  2023      3    5 2023-03-05"
            ]
          },
          "execution_count": 10,
          "metadata": {},
          "output_type": "execute_result"
        }
      ],
      "source": [
        "df = pd.DataFrame({'year': [2022, 2023],\n",
        "                   'month': [2, 3],06\n",
        "                   'day': [4, 5]})\n",
        "df['date'] = pd.to_datetime(df)\n",
        "df"
      ]
    },
    {
      "cell_type": "markdown",
      "metadata": {
        "id": "Db9kklyvv8la"
      },
      "source": [
        "### Get year, month, and day"
      ]
    },
    {
      "cell_type": "code",
      "execution_count": null,
      "metadata": {
        "id": "3qJkmqKmv8la"
      },
      "outputs": [],
      "source": [
        "df = pd.DataFrame({'name': ['Soheil', 'Mahtab', 'Baran'],\n",
        "                 'DoB': ['10-09-1989', '06-28-2020', '06-28-2022']})\n",
        "df['DoB'] = pd.to_datetime(df['DoB'])"
      ]
    },
    {
      "cell_type": "code",
      "execution_count": null,
      "metadata": {
        "id": "qFeas_tQv8la",
        "outputId": "f5838c42-6003-47d8-eea1-a3934a1ad3d3"
      },
      "outputs": [
        {
          "data": {
            "text/html": [
              "<div>\n",
              "<style scoped>\n",
              "    .dataframe tbody tr th:only-of-type {\n",
              "        vertical-align: middle;\n",
              "    }\n",
              "\n",
              "    .dataframe tbody tr th {\n",
              "        vertical-align: top;\n",
              "    }\n",
              "\n",
              "    .dataframe thead th {\n",
              "        text-align: right;\n",
              "    }\n",
              "</style>\n",
              "<table border=\"1\" class=\"dataframe\">\n",
              "  <thead>\n",
              "    <tr style=\"text-align: right;\">\n",
              "      <th></th>\n",
              "      <th>name</th>\n",
              "      <th>DoB</th>\n",
              "      <th>year</th>\n",
              "      <th>month</th>\n",
              "      <th>day</th>\n",
              "    </tr>\n",
              "  </thead>\n",
              "  <tbody>\n",
              "    <tr>\n",
              "      <th>0</th>\n",
              "      <td>Soheil</td>\n",
              "      <td>1989-10-09</td>\n",
              "      <td>1989</td>\n",
              "      <td>10</td>\n",
              "      <td>9</td>\n",
              "    </tr>\n",
              "    <tr>\n",
              "      <th>1</th>\n",
              "      <td>Mahtab</td>\n",
              "      <td>2020-06-28</td>\n",
              "      <td>2020</td>\n",
              "      <td>6</td>\n",
              "      <td>28</td>\n",
              "    </tr>\n",
              "    <tr>\n",
              "      <th>2</th>\n",
              "      <td>Baran</td>\n",
              "      <td>2022-06-28</td>\n",
              "      <td>2022</td>\n",
              "      <td>6</td>\n",
              "      <td>28</td>\n",
              "    </tr>\n",
              "  </tbody>\n",
              "</table>\n",
              "</div>"
            ],
            "text/plain": [
              "     name        DoB  year  month  day\n",
              "0  Soheil 1989-10-09  1989     10    9\n",
              "1  Mahtab 2020-06-28  2020      6   28\n",
              "2   Baran 2022-06-28  2022      6   28"
            ]
          },
          "execution_count": 21,
          "metadata": {},
          "output_type": "execute_result"
        }
      ],
      "source": [
        "df['year']= df['DoB'].dt.year\n",
        "df['month']= df['DoB'].dt.month\n",
        "df['day']= df['DoB'].dt.day\n",
        "df"
      ]
    },
    {
      "cell_type": "code",
      "execution_count": null,
      "metadata": {
        "id": "X3mUd2Tqv8lb",
        "outputId": "e7b73081-6020-43a1-aa44-58f8dfdb240f"
      },
      "outputs": [
        {
          "data": {
            "text/html": [
              "<div>\n",
              "<style scoped>\n",
              "    .dataframe tbody tr th:only-of-type {\n",
              "        vertical-align: middle;\n",
              "    }\n",
              "\n",
              "    .dataframe tbody tr th {\n",
              "        vertical-align: top;\n",
              "    }\n",
              "\n",
              "    .dataframe thead th {\n",
              "        text-align: right;\n",
              "    }\n",
              "</style>\n",
              "<table border=\"1\" class=\"dataframe\">\n",
              "  <thead>\n",
              "    <tr style=\"text-align: right;\">\n",
              "      <th></th>\n",
              "      <th>name</th>\n",
              "      <th>DoB</th>\n",
              "      <th>year</th>\n",
              "      <th>month</th>\n",
              "      <th>day</th>\n",
              "      <th>week_of_year</th>\n",
              "      <th>day_of_week</th>\n",
              "      <th>is_leap_year</th>\n",
              "    </tr>\n",
              "  </thead>\n",
              "  <tbody>\n",
              "    <tr>\n",
              "      <th>0</th>\n",
              "      <td>Soheil</td>\n",
              "      <td>1989-10-09</td>\n",
              "      <td>1989</td>\n",
              "      <td>10</td>\n",
              "      <td>9</td>\n",
              "      <td>41</td>\n",
              "      <td>0</td>\n",
              "      <td>False</td>\n",
              "    </tr>\n",
              "    <tr>\n",
              "      <th>1</th>\n",
              "      <td>Mahtab</td>\n",
              "      <td>2020-06-28</td>\n",
              "      <td>2020</td>\n",
              "      <td>6</td>\n",
              "      <td>28</td>\n",
              "      <td>26</td>\n",
              "      <td>6</td>\n",
              "      <td>True</td>\n",
              "    </tr>\n",
              "    <tr>\n",
              "      <th>2</th>\n",
              "      <td>Baran</td>\n",
              "      <td>2022-06-28</td>\n",
              "      <td>2022</td>\n",
              "      <td>6</td>\n",
              "      <td>28</td>\n",
              "      <td>26</td>\n",
              "      <td>1</td>\n",
              "      <td>False</td>\n",
              "    </tr>\n",
              "  </tbody>\n",
              "</table>\n",
              "</div>"
            ],
            "text/plain": [
              "     name        DoB  year  month  day  week_of_year  day_of_week  \\\n",
              "0  Soheil 1989-10-09  1989     10    9            41            0   \n",
              "1  Mahtab 2020-06-28  2020      6   28            26            6   \n",
              "2   Baran 2022-06-28  2022      6   28            26            1   \n",
              "\n",
              "   is_leap_year  \n",
              "0         False  \n",
              "1          True  \n",
              "2         False  "
            ]
          },
          "execution_count": 22,
          "metadata": {},
          "output_type": "execute_result"
        }
      ],
      "source": [
        "df['week_of_year'] = df['DoB'].dt.week\n",
        "df['day_of_week'] = df['DoB'].dt.dayofweek\n",
        "df['is_leap_year'] = df['DoB'].dt.is_leap_year\n",
        "df"
      ]
    },
    {
      "cell_type": "code",
      "execution_count": null,
      "metadata": {
        "id": "VhLh_gl6v8lb",
        "outputId": "92852ae8-8edc-4ad4-ef68-fa2ea2b9195e"
      },
      "outputs": [
        {
          "data": {
            "text/html": [
              "<div>\n",
              "<style scoped>\n",
              "    .dataframe tbody tr th:only-of-type {\n",
              "        vertical-align: middle;\n",
              "    }\n",
              "\n",
              "    .dataframe tbody tr th {\n",
              "        vertical-align: top;\n",
              "    }\n",
              "\n",
              "    .dataframe thead th {\n",
              "        text-align: right;\n",
              "    }\n",
              "</style>\n",
              "<table border=\"1\" class=\"dataframe\">\n",
              "  <thead>\n",
              "    <tr style=\"text-align: right;\">\n",
              "      <th></th>\n",
              "      <th>name</th>\n",
              "      <th>DoB</th>\n",
              "      <th>year</th>\n",
              "      <th>month</th>\n",
              "      <th>day</th>\n",
              "      <th>week_of_year</th>\n",
              "      <th>day_of_week</th>\n",
              "      <th>is_leap_year</th>\n",
              "      <th>day_of_week_name</th>\n",
              "    </tr>\n",
              "  </thead>\n",
              "  <tbody>\n",
              "    <tr>\n",
              "      <th>0</th>\n",
              "      <td>Soheil</td>\n",
              "      <td>1989-10-09</td>\n",
              "      <td>1989</td>\n",
              "      <td>10</td>\n",
              "      <td>9</td>\n",
              "      <td>41</td>\n",
              "      <td>0</td>\n",
              "      <td>False</td>\n",
              "      <td>Saturday</td>\n",
              "    </tr>\n",
              "    <tr>\n",
              "      <th>1</th>\n",
              "      <td>Mahtab</td>\n",
              "      <td>2020-06-28</td>\n",
              "      <td>2020</td>\n",
              "      <td>6</td>\n",
              "      <td>28</td>\n",
              "      <td>26</td>\n",
              "      <td>6</td>\n",
              "      <td>True</td>\n",
              "      <td>Friday</td>\n",
              "    </tr>\n",
              "    <tr>\n",
              "      <th>2</th>\n",
              "      <td>Baran</td>\n",
              "      <td>2022-06-28</td>\n",
              "      <td>2022</td>\n",
              "      <td>6</td>\n",
              "      <td>28</td>\n",
              "      <td>26</td>\n",
              "      <td>1</td>\n",
              "      <td>False</td>\n",
              "      <td>Sunday</td>\n",
              "    </tr>\n",
              "  </tbody>\n",
              "</table>\n",
              "</div>"
            ],
            "text/plain": [
              "     name        DoB  year  month  day  week_of_year  day_of_week  \\\n",
              "0  Soheil 1989-10-09  1989     10    9            41            0   \n",
              "1  Mahtab 2020-06-28  2020      6   28            26            6   \n",
              "2   Baran 2022-06-28  2022      6   28            26            1   \n",
              "\n",
              "   is_leap_year day_of_week_name  \n",
              "0         False         Saturday  \n",
              "1          True           Friday  \n",
              "2         False           Sunday  "
            ]
          },
          "execution_count": 23,
          "metadata": {},
          "output_type": "execute_result"
        }
      ],
      "source": [
        "dw_mapping={\n",
        "    0: 'Saturday',\n",
        "    1: 'Sunday',\n",
        "    2: 'Monday',\n",
        "    3: 'Tuesday',\n",
        "    4: 'Wednesday',\n",
        "    5: 'Thursday',\n",
        "    6: 'Friday'\n",
        "}\n",
        "df['day_of_week_name']=df['DoB'].dt.weekday.map(dw_mapping)\n",
        "df"
      ]
    },
    {
      "cell_type": "code",
      "execution_count": null,
      "metadata": {
        "id": "hAtp_Cpiv8lb",
        "outputId": "600a5897-89d8-4a72-fa2d-85db228d94ac"
      },
      "outputs": [
        {
          "data": {
            "text/html": [
              "<div>\n",
              "<style scoped>\n",
              "    .dataframe tbody tr th:only-of-type {\n",
              "        vertical-align: middle;\n",
              "    }\n",
              "\n",
              "    .dataframe tbody tr th {\n",
              "        vertical-align: top;\n",
              "    }\n",
              "\n",
              "    .dataframe thead th {\n",
              "        text-align: right;\n",
              "    }\n",
              "</style>\n",
              "<table border=\"1\" class=\"dataframe\">\n",
              "  <thead>\n",
              "    <tr style=\"text-align: right;\">\n",
              "      <th></th>\n",
              "      <th>name</th>\n",
              "      <th>DoB</th>\n",
              "      <th>year</th>\n",
              "      <th>month</th>\n",
              "      <th>day</th>\n",
              "      <th>week_of_year</th>\n",
              "      <th>day_of_week</th>\n",
              "      <th>is_leap_year</th>\n",
              "      <th>day_of_week_name</th>\n",
              "      <th>روز هفته</th>\n",
              "    </tr>\n",
              "  </thead>\n",
              "  <tbody>\n",
              "    <tr>\n",
              "      <th>0</th>\n",
              "      <td>Soheil</td>\n",
              "      <td>1989-10-09</td>\n",
              "      <td>1989</td>\n",
              "      <td>10</td>\n",
              "      <td>9</td>\n",
              "      <td>41</td>\n",
              "      <td>0</td>\n",
              "      <td>False</td>\n",
              "      <td>Saturday</td>\n",
              "      <td>شنبه</td>\n",
              "    </tr>\n",
              "    <tr>\n",
              "      <th>1</th>\n",
              "      <td>Mahtab</td>\n",
              "      <td>2020-06-28</td>\n",
              "      <td>2020</td>\n",
              "      <td>6</td>\n",
              "      <td>28</td>\n",
              "      <td>26</td>\n",
              "      <td>6</td>\n",
              "      <td>True</td>\n",
              "      <td>Friday</td>\n",
              "      <td>جمعه</td>\n",
              "    </tr>\n",
              "    <tr>\n",
              "      <th>2</th>\n",
              "      <td>Baran</td>\n",
              "      <td>2022-06-28</td>\n",
              "      <td>2022</td>\n",
              "      <td>6</td>\n",
              "      <td>28</td>\n",
              "      <td>26</td>\n",
              "      <td>1</td>\n",
              "      <td>False</td>\n",
              "      <td>Sunday</td>\n",
              "      <td>یکشنبه</td>\n",
              "    </tr>\n",
              "  </tbody>\n",
              "</table>\n",
              "</div>"
            ],
            "text/plain": [
              "     name        DoB  year  month  day  week_of_year  day_of_week  \\\n",
              "0  Soheil 1989-10-09  1989     10    9            41            0   \n",
              "1  Mahtab 2020-06-28  2020      6   28            26            6   \n",
              "2   Baran 2022-06-28  2022      6   28            26            1   \n",
              "\n",
              "   is_leap_year day_of_week_name روز هفته  \n",
              "0         False         Saturday     شنبه  \n",
              "1          True           Friday     جمعه  \n",
              "2         False           Sunday   یکشنبه  "
            ]
          },
          "execution_count": 24,
          "metadata": {},
          "output_type": "execute_result"
        }
      ],
      "source": [
        "dw_mapping={\n",
        "    0: 'شنبه',\n",
        "    1: 'یکشنبه',\n",
        "    2: 'دوشنبه',\n",
        "    3: 'سه شنبه',\n",
        "    4: 'چهارشنبه',\n",
        "    5: 'پنجشنبه',\n",
        "    6: 'جمعه',\n",
        "}\n",
        "df['روز هفته']=df['DoB'].dt.weekday.map(dw_mapping)\n",
        "df"
      ]
    },
    {
      "cell_type": "code",
      "execution_count": null,
      "metadata": {
        "id": "L1dY6v6uv8lb",
        "outputId": "0b9ec5ae-3bf8-4e67-9513-69314f833698"
      },
      "outputs": [
        {
          "data": {
            "text/html": [
              "<div>\n",
              "<style scoped>\n",
              "    .dataframe tbody tr th:only-of-type {\n",
              "        vertical-align: middle;\n",
              "    }\n",
              "\n",
              "    .dataframe tbody tr th {\n",
              "        vertical-align: top;\n",
              "    }\n",
              "\n",
              "    .dataframe thead th {\n",
              "        text-align: right;\n",
              "    }\n",
              "</style>\n",
              "<table border=\"1\" class=\"dataframe\">\n",
              "  <thead>\n",
              "    <tr style=\"text-align: right;\">\n",
              "      <th></th>\n",
              "      <th>name</th>\n",
              "      <th>DoB</th>\n",
              "      <th>year</th>\n",
              "      <th>month</th>\n",
              "      <th>day</th>\n",
              "      <th>week_of_year</th>\n",
              "      <th>day_of_week</th>\n",
              "      <th>is_leap_year</th>\n",
              "      <th>day_of_week_name</th>\n",
              "      <th>روز هفته</th>\n",
              "      <th>age</th>\n",
              "    </tr>\n",
              "  </thead>\n",
              "  <tbody>\n",
              "    <tr>\n",
              "      <th>0</th>\n",
              "      <td>Soheil</td>\n",
              "      <td>1989-10-09</td>\n",
              "      <td>1989</td>\n",
              "      <td>10</td>\n",
              "      <td>9</td>\n",
              "      <td>41</td>\n",
              "      <td>0</td>\n",
              "      <td>False</td>\n",
              "      <td>Saturday</td>\n",
              "      <td>شنبه</td>\n",
              "      <td>33</td>\n",
              "    </tr>\n",
              "    <tr>\n",
              "      <th>1</th>\n",
              "      <td>Mahtab</td>\n",
              "      <td>2020-06-28</td>\n",
              "      <td>2020</td>\n",
              "      <td>6</td>\n",
              "      <td>28</td>\n",
              "      <td>26</td>\n",
              "      <td>6</td>\n",
              "      <td>True</td>\n",
              "      <td>Friday</td>\n",
              "      <td>جمعه</td>\n",
              "      <td>2</td>\n",
              "    </tr>\n",
              "    <tr>\n",
              "      <th>2</th>\n",
              "      <td>Baran</td>\n",
              "      <td>2022-06-28</td>\n",
              "      <td>2022</td>\n",
              "      <td>6</td>\n",
              "      <td>28</td>\n",
              "      <td>26</td>\n",
              "      <td>1</td>\n",
              "      <td>False</td>\n",
              "      <td>Sunday</td>\n",
              "      <td>یکشنبه</td>\n",
              "      <td>0</td>\n",
              "    </tr>\n",
              "  </tbody>\n",
              "</table>\n",
              "</div>"
            ],
            "text/plain": [
              "     name        DoB  year  month  day  week_of_year  day_of_week  \\\n",
              "0  Soheil 1989-10-09  1989     10    9            41            0   \n",
              "1  Mahtab 2020-06-28  2020      6   28            26            6   \n",
              "2   Baran 2022-06-28  2022      6   28            26            1   \n",
              "\n",
              "   is_leap_year day_of_week_name روز هفته  age  \n",
              "0         False         Saturday     شنبه   33  \n",
              "1          True           Friday     جمعه    2  \n",
              "2         False           Sunday   یکشنبه    0  "
            ]
          },
          "execution_count": 25,
          "metadata": {},
          "output_type": "execute_result"
        }
      ],
      "source": [
        "today = pd.to_datetime('today')\n",
        "df['age'] = today.year - df['DoB'].dt.year\n",
        "df"
      ]
    },
    {
      "cell_type": "code",
      "execution_count": null,
      "metadata": {
        "id": "pVtyFDvfv8lb",
        "outputId": "23424f97-d7bf-48a2-f533-2242151a0c2b"
      },
      "outputs": [
        {
          "data": {
            "text/html": [
              "<div>\n",
              "<style scoped>\n",
              "    .dataframe tbody tr th:only-of-type {\n",
              "        vertical-align: middle;\n",
              "    }\n",
              "\n",
              "    .dataframe tbody tr th {\n",
              "        vertical-align: top;\n",
              "    }\n",
              "\n",
              "    .dataframe thead th {\n",
              "        text-align: right;\n",
              "    }\n",
              "</style>\n",
              "<table border=\"1\" class=\"dataframe\">\n",
              "  <thead>\n",
              "    <tr style=\"text-align: right;\">\n",
              "      <th></th>\n",
              "      <th>name</th>\n",
              "      <th>DoB</th>\n",
              "      <th>year</th>\n",
              "      <th>month</th>\n",
              "      <th>day</th>\n",
              "      <th>week_of_year</th>\n",
              "      <th>day_of_week</th>\n",
              "      <th>is_leap_year</th>\n",
              "      <th>day_of_week_name</th>\n",
              "      <th>روز هفته</th>\n",
              "      <th>age</th>\n",
              "    </tr>\n",
              "  </thead>\n",
              "  <tbody>\n",
              "    <tr>\n",
              "      <th>0</th>\n",
              "      <td>Soheil</td>\n",
              "      <td>1989-10-09</td>\n",
              "      <td>1989</td>\n",
              "      <td>10</td>\n",
              "      <td>9</td>\n",
              "      <td>41</td>\n",
              "      <td>0</td>\n",
              "      <td>False</td>\n",
              "      <td>Saturday</td>\n",
              "      <td>شنبه</td>\n",
              "      <td>33</td>\n",
              "    </tr>\n",
              "    <tr>\n",
              "      <th>1</th>\n",
              "      <td>Mahtab</td>\n",
              "      <td>2020-06-28</td>\n",
              "      <td>2020</td>\n",
              "      <td>6</td>\n",
              "      <td>28</td>\n",
              "      <td>26</td>\n",
              "      <td>6</td>\n",
              "      <td>True</td>\n",
              "      <td>Friday</td>\n",
              "      <td>جمعه</td>\n",
              "      <td>2</td>\n",
              "    </tr>\n",
              "    <tr>\n",
              "      <th>2</th>\n",
              "      <td>Baran</td>\n",
              "      <td>2022-06-28</td>\n",
              "      <td>2022</td>\n",
              "      <td>6</td>\n",
              "      <td>28</td>\n",
              "      <td>26</td>\n",
              "      <td>1</td>\n",
              "      <td>False</td>\n",
              "      <td>Sunday</td>\n",
              "      <td>یکشنبه</td>\n",
              "      <td>0</td>\n",
              "    </tr>\n",
              "  </tbody>\n",
              "</table>\n",
              "</div>"
            ],
            "text/plain": [
              "     name        DoB  year  month  day  week_of_year  day_of_week  \\\n",
              "0  Soheil 1989-10-09  1989     10    9            41            0   \n",
              "1  Mahtab 2020-06-28  2020      6   28            26            6   \n",
              "2   Baran 2022-06-28  2022      6   28            26            1   \n",
              "\n",
              "   is_leap_year day_of_week_name روز هفته  age  \n",
              "0         False         Saturday     شنبه   33  \n",
              "1          True           Friday     جمعه    2  \n",
              "2         False           Sunday   یکشنبه    0  "
            ]
          },
          "execution_count": 26,
          "metadata": {},
          "output_type": "execute_result"
        }
      ],
      "source": [
        "# Year difference\n",
        "today = pd.to_datetime('today')\n",
        "diff_y = today.year - df['DoB'].dt.year\n",
        "\n",
        "# Haven't had birthday\n",
        "b_md = df['DoB'].apply(lambda x: (x.month,x.day) )\n",
        "no_birthday = b_md > (today.month,today.day)\n",
        "df['age'] = diff_y - no_birthday\n",
        "df"
      ]
    },
    {
      "cell_type": "code",
      "source": [],
      "metadata": {
        "id": "pP3nrrMRxDFD"
      },
      "execution_count": null,
      "outputs": []
    }
  ],
  "metadata": {
    "colab": {
      "provenance": [],
      "toc_visible": true
    },
    "kernelspec": {
      "display_name": "Python 3 (ipykernel)",
      "language": "python",
      "name": "python3"
    },
    "language_info": {
      "codemirror_mode": {
        "name": "ipython",
        "version": 3
      },
      "file_extension": ".py",
      "mimetype": "text/x-python",
      "name": "python",
      "nbconvert_exporter": "python",
      "pygments_lexer": "ipython3",
      "version": "3.9.13"
    }
  },
  "nbformat": 4,
  "nbformat_minor": 0
}